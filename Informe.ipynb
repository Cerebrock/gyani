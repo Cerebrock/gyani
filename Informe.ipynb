{
 "cells": [
  {
   "cell_type": "code",
   "execution_count": null,
   "metadata": {},
   "outputs": [],
   "source": [
    "test = open(filename, \"rb\")\n",
    "txt = test.read()\n",
    "txt = re.split('\\r\\n\\r\\n\\r\\n', txt.decode())\n",
    "[txt[0]] + [i.strip() for i in re.findall(reg, txt[1]) if len(i) > 4]"
   ]
  },
  {
   "cell_type": "code",
   "execution_count": null,
   "metadata": {},
   "outputs": [],
   "source": []
  },
  {
   "cell_type": "code",
   "execution_count": 9,
   "metadata": {},
   "outputs": [],
   "source": [
    "quest = './Neopir.txt'\n",
    "with open(quest, 'r') as inp:\n",
    "    raw = inp.read()\n",
    "    prompt, quests = re.split('\\n\\n\\n', raw)\n",
    "    quests = quests.split('\\n')"
   ]
  },
  {
   "cell_type": "code",
   "execution_count": 16,
   "metadata": {},
   "outputs": [
    {
     "name": "stdout",
     "output_type": "stream",
     "text": [
      "{prompt:'No hay respuestas correctas o incorrectas, responda sinceramente. POR FAVOR RESPONDA TODAS LAS PREGUNTAS. Presione Enter para comenzar...', options: options_, horizontal:true, required:true},\n",
      "{prompt:'No soy una persona que me angustio fácilmente', options: options_, horizontal:true, required:true},\n",
      "{prompt:'Me gusta la mayoría de la gente que conozco', options: options_, horizontal:true, required:true},\n",
      "{prompt:'Tengo una imaginación muy activa', options: options_, horizontal:true, required:true},\n",
      "{prompt:'Tiendo a ser cínico/a y descreído/a acerca de las intenciones de los demás', options: options_, horizontal:true, required:true},\n",
      "{prompt:'Se me conoce por mi prudencia y sentido común', options: options_, horizontal:true, required:true},\n",
      "{prompt:'Me enojo, a menudo, por el modo ne que la gente me trata', options: options_, horizontal:true, required:true},\n",
      "{prompt:'Me alejo de los grupos de personas', options: options_, horizontal:true, required:true},\n",
      "{prompt:'Las preocupaciones estéticas y artísticas no son muy importantes para mi', options: options_, horizontal:true, required:true},\n",
      "{prompt:'No soy pícaro/a ni tramposo/a', options: options_, horizontal:true, required:true},\n",
      "{prompt:'Prefiero no planificar todo por adelantado', options: options_, horizontal:true, required:true},\n",
      "{prompt:'Raramente me siento solo/a o deprimido/a', options: options_, horizontal:true, required:true},\n",
      "{prompt:'Soy dominante, enérgico/a y decidido/a', options: options_, horizontal:true, required:true},\n",
      "{prompt:'Para mi la vida no seria interesante sin emociones fuertes', options: options_, horizontal:true, required:true},\n",
      "{prompt:'Alguna gente cree que soy interesado/a y egoísta', options: options_, horizontal:true, required:true},\n",
      "{prompt:'Trato de realizar responsablemente las tareas que se me asignan', options: options_, horizontal:true, required:true},\n",
      "{prompt:'Al tratar con gente nueva temo \"meter la pata\"', options: options_, horizontal:true, required:true},\n",
      "{prompt:'Soy tranquilo/a tanto en el trabajo como en las horas libres', options: options_, horizontal:true, required:true},\n",
      "{prompt:'Estoy muy acostumbrado a \"ser como soy\"', options: options_, horizontal:true, required:true},\n",
      "{prompt:'Prefiero más cooperar que competir', options: options_, horizontal:true, required:true},\n",
      "{prompt:'Soy conformista y tomo las cosas con calma', options: options_, horizontal:true, required:true},\n",
      "{prompt:'Muy pocas veces abuso de algo', options: options_, horizontal:true, required:true},\n",
      "{prompt:'A menudo busco estimulación y emociones fuertes', options: options_, horizontal:true, required:true},\n",
      "{prompt:'A menudo disfruto con teorías e ideas abstractas', options: options_, horizontal:true, required:true},\n",
      "{prompt:'No tengo inconveniente en mandarme la parte acerca de mi alento y mis logros', options: options_, horizontal:true, required:true},\n",
      "{prompt:'Soy bastante bueno/a para planificar mis cosas y así enerlas a tiempo', options: options_, horizontal:true, required:true},\n",
      "{prompt:'A veces me siento desprotegido/a y quiero que alguien me solucione mis problemas', options: options_, horizontal:true, required:true},\n",
      "{prompt:'Nunca he saltado de alegría', options: options_, horizontal:true, required:true},\n",
      "{prompt:'Creo que dejar a los estudiantes que escuchen oradores poléemicos sólo puede confundirlos y engañarlos', options: options_, horizontal:true, required:true},\n",
      "{prompt:'Los gobernantes necesitan ser más concientes de las implicaciones humanas de sus políticas', options: options_, horizontal:true, required:true},\n",
      "{prompt:'A lo largo del tiempo he realizado algunas cosas bastante estúpidas', options: options_, horizontal:true, required:true},\n",
      "{prompt:'Siento miedo fácilmente', options: options_, horizontal:true, required:true},\n",
      "{prompt:'No disfruto mucho hablando con la gente', options: options_, horizontal:true, required:true},\n",
      "{prompt:'Difijo mis pensamientos hacia cosas reales y evito soñar despierto/a', options: options_, horizontal:true, required:true},\n",
      "{prompt:'Creo que la mayor parte de la gente tiene buenas intenciones', options: options_, horizontal:true, required:true},\n",
      "{prompt:'No tomo mis obligaciones cívicas, como el votar, muy en serio', options: options_, horizontal:true, required:true},\n",
      "{prompt:'Soy una persona equilibrada', options: options_, horizontal:true, required:true},\n",
      "{prompt:'Me gusta tener mucha gente a mi alrededor', options: options_, horizontal:true, required:true},\n",
      "{prompt:'Algunas veces el escuchar música me absorbe completamente', options: options_, horizontal:true, required:true},\n",
      "{prompt:'Si es necesario soy capaz de manipular a la gente para conseguir lo que quiero', options: options_, horizontal:true, required:true},\n",
      "{prompt:'Mantengo mis cosas ordenadas y limpias', options: options_, horizontal:true, required:true},\n",
      "{prompt:'Algunas veces me siento como si no valiera nada', options: options_, horizontal:true, required:true},\n",
      "{prompt:'Algunas veces no sostengo mis ideas tanto como debiera', options: options_, horizontal:true, required:true},\n",
      "{prompt:'Raramente siento emociones fuertes', options: options_, horizontal:true, required:true},\n",
      "{prompt:'Trato de ser amable con todo el mundo', options: options_, horizontal:true, required:true},\n",
      "{prompt:'Algunas veces no soy tan responsable, ni digno/a de confianza como deberia ser', options: options_, horizontal:true, required:true},\n",
      "{prompt:'Raramente me siento temeroso/a cuando estoy rodeado/a de gente', options: options_, horizontal:true, required:true},\n",
      "{prompt:'Cuando hago cosas las realizo con decisión', options: options_, horizontal:true, required:true},\n",
      "{prompt:'Creo que es interesante aprender y desarrollar nuevas actividades para distraerme', options: options_, horizontal:true, required:true},\n",
      "{prompt:'Puedo ser cortante e irónico/a cuando lo necesito', options: options_, horizontal:true, required:true},\n",
      "{prompt:'Tengo objetivos claros y lucho por ellos', options: options_, horizontal:true, required:true},\n",
      "{prompt:'Me es difícil resistir mis impulsos', options: options_, horizontal:true, required:true},\n",
      "{prompt:'No disfrutaría de unas vacaciones en Mar del Plata', options: options_, horizontal:true, required:true},\n",
      "{prompt:'Encuentro los argumentos filosóficos aburridos y pesados', options: options_, horizontal:true, required:true},\n",
      "{prompt:'Prefiero no hablar de mi mismo/a y de mis logros', options: options_, horizontal:true, required:true},\n",
      "{prompt:'Pierdo un montón de tiempo antes de poenrme a trabajar', options: options_, horizontal:true, required:true},\n",
      "{prompt:'Creo que soy capaz de enfrentar la mayor parte de mis problemas', options: options_, horizontal:true, required:true},\n",
      "{prompt:'Algunas veces he sentido una inmensa alegría o regocijo', options: options_, horizontal:true, required:true},\n",
      "{prompt:'Creo que las leyes y las normas sociales deberían cambiar para reflejar las necesidades de un mundo en cambios', options: options_, horizontal:true, required:true},\n",
      "{prompt:'Soy cabeza dura e inflexible en mis actitudes', options: options_, horizontal:true, required:true},\n",
      "{prompt:'Reflexiono antes de decidir', options: options_, horizontal:true, required:true},\n",
      "{prompt:'Rara vez me siento temeroso/a y/o ansioso/a ', options: options_, horizontal:true, required:true},\n",
      "{prompt:'Se me conoce como una persona demostrativa y amigable', options: options_, horizontal:true, required:true},\n",
      "{prompt:'Fantaseo muy a menudo', options: options_, horizontal:true, required:true},\n",
      "{prompt:'Creo que la mayor aprte de la gente se aprovecharía de uno si se lo permitiese', options: options_, horizontal:true, required:true},\n",
      "{prompt:'Me m antengo informado/a y habitualmente tomo decisiones inteligentes', options: options_, horizontal:true, required:true},\n",
      "{prompt:'Se me conoce como apasionado/a y \"enojadizo/a\"', options: options_, horizontal:true, required:true},\n",
      "{prompt:'Habitualmente prefiero hacer las cosas solo/a', options: options_, horizontal:true, required:true},\n",
      "{prompt:'Ver ballet o danza moderna me aburre', options: options_, horizontal:true, required:true},\n",
      "{prompt:'No podría engañar a nadie aunque quisiera', options: options_, horizontal:true, required:true},\n",
      "{prompt:'No soy una persona muy metódica', options: options_, horizontal:true, required:true},\n",
      "{prompt:'Rara vez estoy triste o deprimido/a', options: options_, horizontal:true, required:true},\n",
      "{prompt:'Con frecuencia he sido lider de los grupos a los que he pertenecido', options: options_, horizontal:true, required:true},\n",
      "{prompt:'Para mí es importante respetar mis estados de ánimo', options: options_, horizontal:true, required:true},\n",
      "{prompt:'Algunas personas piensan que soy frío/a y calculador/a', options: options_, horizontal:true, required:true},\n",
      "{prompt:'Pago mis deudas en término', options: options_, horizontal:true, required:true},\n",
      "{prompt:'A veces he estado tan avergonzado/a que quisiera esconderme', options: options_, horizontal:true, required:true},\n",
      "{prompt:'Mi trabajo suele ser lento pero constante', options: options_, horizontal:true, required:true},\n",
      "{prompt:'Una vez que encuentro la forma correcta de hacer algo persisto en ellos', options: options_, horizontal:true, required:true},\n",
      "{prompt:'Vacilo en expresar mi enojo, incluso aunque sea justificado', options: options_, horizontal:true, required:true},\n",
      "{prompt:'Cuando comienzo un programa de autoayuda a los pocos días pierdo el interés y lo abandono poco a poco', options: options_, horizontal:true, required:true},\n",
      "{prompt:'No me es difícil resistirme a las tentaciones', options: options_, horizontal:true, required:true},\n",
      "{prompt:'Algunas veces he hecho cosas sólo por el gusto y la emoción que producían', options: options_, horizontal:true, required:true},\n",
      "{prompt:'Disfruto resolviendo problemas o rompecabezas', options: options_, horizontal:true, required:true},\n",
      "{prompt:'Estoy seguro/a que soy mejor que la mayoría de la gente', options: options_, horizontal:true, required:true},\n",
      "{prompt:'Soy una persona productiva que cumple con su trabajo', options: options_, horizontal:true, required:true},\n",
      "{prompt:'Cuando estoy bajo presión, algunas veces siento como si me rompiera en pedazos', options: options_, horizontal:true, required:true},\n",
      "{prompt:'No soy una persona optimista ni animossa', options: options_, horizontal:true, required:true},\n",
      "{prompt:'Creo que deberíamos mirar hacia nuestras autoridades religiosas para decidir sobre aspectos morales', options: options_, horizontal:true, required:true},\n",
      "{prompt:'No se puede hacer demasiado por el pobre y el anciano', options: options_, horizontal:true, required:true},\n",
      "{prompt:'Ocasionalmente primero actúo y después pienso', options: options_, horizontal:true, required:true},\n",
      "{prompt:'Con frecuencia me siento tenso/a y sobresaltado/a', options: options_, horizontal:true, required:true},\n",
      "{prompt:'Mucha gente piensa que soy algo frío/a y distante', options: options_, horizontal:true, required:true},\n",
      "{prompt:'No me gusta perder el tiempo soñando despierto', options: options_, horizontal:true, required:true},\n",
      "{prompt:'Pienso que la mayor parte de la gente que trato es honesta y de confianza', options: options_, horizontal:true, required:true},\n",
      "{prompt:'Con frecuencia me \"meto\" en situaciones para las que no estoy preparado', options: options_, horizontal:true, required:true},\n",
      "{prompt:'No se me considera una persona temperamental', options: options_, horizontal:true, required:true},\n",
      "{prompt:'Efectivamente necesito a otra gente cuando estoy solo/a durante mucho tiempo', options: options_, horizontal:true, required:true},\n",
      "{prompt:'Me llama la atención las semejanzas que encuentro entre el arte y la naturaleza', options: options_, horizontal:true, required:true},\n",
      "{prompt:'Ser totalmente honesto/a es una mala forma de hacer negocios', options: options_, horizontal:true, required:true},\n",
      "{prompt:'Me gusta colocar cada cosa en su sitio, así se donde está', options: options_, horizontal:true, required:true},\n",
      "{prompt:'Algunas veces siento un profundo sentimiento de culpabilidad', options: options_, horizontal:true, required:true},\n",
      "{prompt:'Normalmente en las reuniones dejo que los demás hablen', options: options_, horizontal:true, required:true},\n",
      "{prompt:'Casi nunca presto mucha atención a los sentimientos dle momento', options: options_, horizontal:true, required:true},\n",
      "{prompt:'Generalmente trato de ser atento/a y considerado/abandono', options: options_, horizontal:true, required:true},\n",
      "{prompt:'Algunas veces me hago trampas cuando juego al solitario', options: options_, horizontal:true, required:true},\n",
      "{prompt:'No me molesta demasiado que la gente me ridiculice o se ría de mi', options: options_, horizontal:true, required:true},\n",
      "{prompt:'Con frecuencia siento como si me desbordara la energía', options: options_, horizontal:true, required:true},\n",
      "{prompt:'Con frecuencia pruebo comidas nuevas y raras', options: options_, horizontal:true, required:true},\n",
      "{prompt:'Si la gente no me gusta se lo digo', options: options_, horizontal:true, required:true},\n",
      "{prompt:'Trabajo duramente para conseguir mis objetivos', options: options_, horizontal:true, required:true},\n",
      "{prompt:'Cuando estoy comiendo mi plato preferido, generalmente como demasiado', options: options_, horizontal:true, required:true},\n",
      "{prompt:'Trato de evitar películas de terror o miedo', options: options_, horizontal:true, required:true},\n",
      "{prompt:'Algunas veces pierdo el interés cuando la gente habla de cosas muy abstractas y teóricas', options: options_, horizontal:true, required:true},\n",
      "{prompt:'Trato de ser humilde', options: options_, horizontal:true, required:true},\n",
      "{prompt:'Tengo problemas para obligarme a hacer lo que debo', options: options_, horizontal:true, required:true},\n",
      "{prompt:'Trato de mantener la calma ante las emergencias', options: options_, horizontal:true, required:true},\n",
      "{prompt:'Algunas veces estoy repleto/a de felicidad', options: options_, horizontal:true, required:true},\n",
      "{prompt:'Creo que las ideas sobre lo bueno y lo malo que las personas tienen en diferentes sociedades pueden ser válidas solamente para ellos', options: options_, horizontal:true, required:true},\n",
      "{prompt:'No siento ninguna simpatía por las personas que \"piden\"', options: options_, horizontal:true, required:true},\n",
      "{prompt:'Siempre tengo en cuenta las consecuencias antes de actuar', options: options_, horizontal:true, required:true},\n",
      "{prompt:'Casi nunca soy temeroso/a ante el futuro', options: options_, horizontal:true, required:true},\n",
      "{prompt:'Realmente disfruto hablando con la gente', options: options_, horizontal:true, required:true},\n",
      "{prompt:'Me divierto concentrándome en una fantaría o soñando despierto/a y juego pensando en todas sus posibilidades', options: options_, horizontal:true, required:true},\n",
      "{prompt:'Sospecho cuando alguien hace algo amable por mi', options: options_, horizontal:true, required:true},\n",
      "{prompt:'Me enorgullezco de mi buen juicio', options: options_, horizontal:true, required:true},\n",
      "{prompt:'Con frecuencia me disgusto con gente con la que trato', options: options_, horizontal:true, required:true},\n",
      "{prompt:'Prefiero trabajos que tenga que hacer solo/a sin ser molestado por otros', options: options_, horizontal:true, required:true},\n",
      "{prompt:'La poesía tiene poco o ningún efecto en mi', options: options_, horizontal:true, required:true},\n",
      "{prompt:'Odiaría que pensaran que soy un hipócrita', options: options_, horizontal:true, required:true},\n",
      "{prompt:'Nunca soy capaz de ser organizado/a', options: options_, horizontal:true, required:true},\n",
      "{prompt:'Tiendo a culparme cuando algo va mal', options: options_, horizontal:true, required:true},\n",
      "{prompt:'Con frecuencia la gente espera que yo tome las decisiones', options: options_, horizontal:true, required:true},\n",
      "{prompt:'Experimento una gran variedad de sentimientos y emociones', options: options_, horizontal:true, required:true},\n",
      "{prompt:'No soy conocido/a por mi generosidad', options: options_, horizontal:true, required:true},\n",
      "{prompt:'Cuando me comprometo, siempre se puede contar conmigo par allevarlo a cabo', options: options_, horizontal:true, required:true},\n",
      "{prompt:'Con frecuencia me siento inferior a los demás', options: options_, horizontal:true, required:true},\n",
      "{prompt:'No soy tan \"vivo/a\" como otras personas', options: options_, horizontal:true, required:true},\n",
      "{prompt:'Prefiero pasar el tiempo en ambientes familiares', options: options_, horizontal:true, required:true},\n",
      "{prompt:'Cuando he sido insultado trato de perdonar y olvidar', options: options_, horizontal:true, required:true},\n",
      "{prompt:'No siento la necesidad de superarme', options: options_, horizontal:true, required:true},\n",
      "{prompt:'Casi nunca me dejo llevar por los impulsos', options: options_, horizontal:true, required:true},\n",
      "{prompt:'Quiero estar donde está la acción', options: options_, horizontal:true, required:true},\n",
      "{prompt:'Me divierte trabajar con juegos de mente que desarían mi cerebro', options: options_, horizontal:true, required:true},\n",
      "{prompt:'Tengo una alta opinión de mi mismo ', options: options_, horizontal:true, required:true},\n",
      "{prompt:'Una vez que comienzo un proyecto casi siempre lo termino', options: options_, horizontal:true, required:true},\n",
      "{prompt:'A menudo me resulta difícil decidirme', options: options_, horizontal:true, required:true},\n",
      "{prompt:'No me considero especialmente alegre', options: options_, horizontal:true, required:true},\n",
      "{prompt:'Creo que la lealtad a las ideas y principios de uno es más importante que una mente abierta ', options: options_, horizontal:true, required:true},\n",
      "{prompt:'Las necesidades humanas deben ser prioritarias a las consideraciones económicas', options: options_, horizontal:true, required:true},\n",
      "{prompt:'Comúnmente hago cosas por impulso', options: options_, horizontal:true, required:true},\n",
      "{prompt:'Con frecuencia me preocupa que las cosas puedan salir mal', options: options_, horizontal:true, required:true},\n",
      "{prompt:'Me resulta fácil sonreír y ser sociable con la gente', options: options_, horizontal:true, required:true},\n",
      "{prompt:'Si noto que empiezo a soñar despierto/a, trato de ocuparme en algo y concentrarme en ello', options: options_, horizontal:true, required:true},\n",
      "{prompt:'Mi primera reacción es confiar en la gente', options: options_, horizontal:true, required:true},\n",
      "{prompt:'Parece que no tengo éxito en nada', options: options_, horizontal:true, required:true},\n",
      "{prompt:'Cuesta mucho ponerme de mal humor', options: options_, horizontal:true, required:true},\n",
      "{prompt:'Prefiero las vacaciones en una playa popular que en un bosque solitario', options: options_, horizontal:true, required:true},\n",
      "{prompt:'Ciertos tipos de música tienen una atracción enorme en mi', options: options_, horizontal:true, required:true},\n",
      "{prompt:'A veces engaño a la gente para hacer lo que yo quiero', options: options_, horizontal:true, required:true},\n",
      "{prompt:'Tiendo a ser fastidioso y exigente', options: options_, horizontal:true, required:true},\n",
      "{prompt:'Tengo una muy pobre opinión de mi mismo', options: options_, horizontal:true, required:true},\n",
      "{prompt:'Me gusta más hacer personalmente mi trabajo que dirigir a otros', options: options_, horizontal:true, required:true},\n",
      "{prompt:'Pocas veces me doy cuenta de los sentimientos y climas que se producen en los diferentes ambientes', options: options_, horizontal:true, required:true},\n",
      "{prompt:'Le caigo bien a la mayoría de la gente que conozco', options: options_, horizontal:true, required:true},\n",
      "{prompt:'Me adhiero estrictamente a mis principios éticos', options: options_, horizontal:true, required:true},\n",
      "{prompt:'Me siento a gusto en presencia de mi jefe u otras autoridades', options: options_, horizontal:true, required:true},\n",
      "{prompt:'Frecuentemente parece que estoy apurado/a', options: options_, horizontal:true, required:true},\n",
      "{prompt:'Algunas veces realizo cambios en la casa sólo para probar algo diferente', options: options_, horizontal:true, required:true},\n",
      "{prompt:'Si alguien empieza una pelea estoy listo para pelear', options: options_, horizontal:true, required:true},\n",
      "{prompt:'Me esfuerzo en lograr todo lo que puedo', options: options_, horizontal:true, required:true},\n",
      "{prompt:'A veces como tanto que me enfermo', options: options_, horizontal:true, required:true},\n",
      "{prompt:'Me gusta la sensación de la montaña rusa', options: options_, horizontal:true, required:true},\n",
      "{prompt:'Tengo poco interés en reflexionar sobre la naturaleza del universo y de la condición humana', options: options_, horizontal:true, required:true},\n",
      "{prompt:'Siento que no soy mejor que los demás (cualquiera sea su condición)', options: options_, horizontal:true, required:true},\n",
      "{prompt:'Cuando un proyecto se hace demasiado difícil, me inclino a comenzar otro nuevo', options: options_, horizontal:true, required:true},\n",
      "{prompt:'Me puedo controlar bastante bien ante una crisis', options: options_, horizontal:true, required:true},\n",
      "{prompt:'soy una persona alegre y animosa', options: options_, horizontal:true, required:true},\n",
      "{prompt:'Me considero de mente abierta y tolerante en relación al estilo de vida de otra gente', options: options_, horizontal:true, required:true},\n",
      "{prompt:'Creo que todos los seres humanos merecen respeto', options: options_, horizontal:true, required:true},\n",
      "{prompt:'Raramente tomo decisiones apresuradas', options: options_, horizontal:true, required:true},\n",
      "{prompt:'Tengo menos temores que la mayoría de la gente', options: options_, horizontal:true, required:true},\n",
      "{prompt:'Tengo una fuerte relación emocional con mis amigos', options: options_, horizontal:true, required:true},\n",
      "{prompt:'Cuando era niño/a raramente disfrutaba con juegos de magia', options: options_, horizontal:true, required:true},\n",
      "{prompt:'Tiendo a pensar lo mejor de la gente', options: options_, horizontal:true, required:true},\n",
      "{prompt:'Soy una persona muy competente', options: options_, horizontal:true, required:true},\n",
      "{prompt:'A veces me he sentido amargado/a y resentido/a', options: options_, horizontal:true, required:true},\n",
      "{prompt:'Las reuniones sociales me resultan generalmente aburridas', options: options_, horizontal:true, required:true},\n",
      "{prompt:'A veces cuando leo una poesía o veo una obra de arte siento escalosfrios de emoción', options: options_, horizontal:true, required:true},\n",
      "{prompt:'A veces fuerzo o alabo a alguien para que haga lo que yo quiero', options: options_, horizontal:true, required:true},\n",
      "{prompt:'No soy maniático/a por la limpieza', options: options_, horizontal:true, required:true},\n",
      "{prompt:'A veces las cosas me parecen bastante poco prometedoras y sin esperanza', options: options_, horizontal:true, required:true},\n",
      "{prompt:'En las conversaciones tiendo a hablar más que los demás', options: options_, horizontal:true, required:true},\n",
      "{prompt:'Me resulta fácil sentir lo que otros están sintiendo', options: options_, horizontal:true, required:true},\n",
      "{prompt:'Considero que soy una persona caritativa', options: options_, horizontal:true, required:true},\n",
      "{prompt:'Trato de hacer los trabajos cuidadosamente para que no haya que volver a hacerlos', options: options_, horizontal:true, required:true},\n",
      "{prompt:'Si he dicho o hecho algo malo a alguien apenas lo puedo mirar de nuevo a la cara', options: options_, horizontal:true, required:true},\n",
      "{prompt:'Llevo mi vida a un ritmo rápido', options: options_, horizontal:true, required:true},\n",
      "{prompt:'En vacaciones prefiero ir a un lugar que ya conozco', options: options_, horizontal:true, required:true},\n",
      "{prompt:'Soy terco/a y testarudo/a', options: options_, horizontal:true, required:true},\n",
      "{prompt:'Intento destacarme en todo lo que hago', options: options_, horizontal:true, required:true},\n",
      "{prompt:'Algunas veces hago las cosas por impulso y luego me arrepiento', options: options_, horizontal:true, required:true},\n",
      "{prompt:'Me atraen los colores brillantes y los estilos llamativos', options: options_, horizontal:true, required:true},\n",
      "{prompt:'Tengo mucha curiosidad intelectual', options: options_, horizontal:true, required:true},\n",
      "{prompt:'Prefiero elogiar a otros a que me elogien a mi', options: options_, horizontal:true, required:true},\n",
      "{prompt:'Hay tantos pequeños trabajos para hacer que algunas veces los ignoro a todos', options: options_, horizontal:true, required:true},\n",
      "{prompt:'Cuando todo parece ir mal todavía puedo tomar buenas decisiones', options: options_, horizontal:true, required:true},\n",
      "{prompt:'Raramente uso palabras como \"¡fantástico!\" o \"¡sensacional!\" para describir mis experiencias', options: options_, horizontal:true, required:true},\n",
      "{prompt:'Pienso que si las personas no tienen claro que les pasa a los 25 años, algo no anda bien en ellos', options: options_, horizontal:true, required:true},\n",
      "{prompt:'Siento mucha compasión por otros menos afortunados que yo', options: options_, horizontal:true, required:true},\n",
      "{prompt:'Planifico cuidadosamente todo cuando me voy de viaje', options: options_, horizontal:true, required:true},\n",
      "{prompt:'A veces me vienen a la cabeza pensamientos atemorizantes', options: options_, horizontal:true, required:true},\n",
      "{prompt:'Me tomo un interés personal por la gente con la que trabajo', options: options_, horizontal:true, required:true},\n",
      "{prompt:'Tengo dificultades en dejar que mi imaginación vuele sin control ni guía', options: options_, horizontal:true, required:true},\n",
      "{prompt:'Tengo mucha fe en la naturaleza humana', options: options_, horizontal:true, required:true},\n",
      "{prompt:'Soy eficiente y eficaz en mi trabajo', options: options_, horizontal:true, required:true},\n",
      "{prompt:'Incluso los pequeños disgustos pueden ser frustrantes para mi', options: options_, horizontal:true, required:true},\n",
      "{prompt:'La paso bien en las fiestas donde hay mucha gente', options: options_, horizontal:true, required:true},\n",
      "{prompt:'Disfruto leyendo poesías que resaltan más los sentimientos que los argumentos ', options: options_, horizontal:true, required:true},\n",
      "{prompt:'Estoy orgulloso/a de mi habilidad en el trato con la gente', options: options_, horizontal:true, required:true},\n",
      "{prompt:'Dedico mucho tiempo en buscar cosas que he extraviado', options: options_, horizontal:true, required:true},\n",
      "{prompt:'Demasiado a menudo, cuando las cosas van mal, me desanimo y quiero abandonarlo todo', options: options_, horizontal:true, required:true},\n",
      "{prompt:'No me es fácil hacer frente a una situación', options: options_, horizontal:true, required:true},\n",
      "{prompt:'Cosas curiosas -como ciertos aromas o los nombres de lugares lejanos- pueden evocar en mi intensos estados de ánimo', options: options_, horizontal:true, required:true},\n",
      "{prompt:'Si puedo, me tomo la molestia de ayudar a otros ', options: options_, horizontal:true, required:true},\n",
      "{prompt:'Tendría que estar realmente enfermo/a antes de perder un día de trabajo', options: options_, horizontal:true, required:true},\n",
      "{prompt:'Cuando la gente que conozco hace cosas a lo loco, me siento avergonzado/a por ello', options: options_, horizontal:true, required:true},\n",
      "{prompt:'Soy una persona muy activa', options: options_, horizontal:true, required:true},\n",
      "{prompt:'Siempre sigo el mismo camino cuando voy a algún lugar', options: options_, horizontal:true, required:true},\n",
      "{prompt:'A menudo tengo discusiones con mi familia y con mis compañeros de trabajo', options: options_, horizontal:true, required:true},\n",
      "{prompt:'Soy un poco \"adicto/a\" al trabajo', options: options_, horizontal:true, required:true},\n",
      "{prompt:'Siempre soy capaz de mantener mis sentimientos bajo control', options: options_, horizontal:true, required:true},\n",
      "{prompt:'Me gusta formar parte del público en acontecimientos deportivos', options: options_, horizontal:true, required:true},\n",
      "{prompt:'Tengo una amplia gama de intereses intelectuales', options: options_, horizontal:true, required:true},\n",
      "{prompt:'Soy una persona superior', options: options_, horizontal:true, required:true},\n",
      "{prompt:'Tengo mucha autodisciplina', options: options_, horizontal:true, required:true},\n",
      "{prompt:'Soy bastante estable emocionalmente', options: options_, horizontal:true, required:true},\n",
      "{prompt:'Me río fácilmente', options: options_, horizontal:true, required:true},\n",
      "{prompt:'Creo que la \"nueva moralidad\" del \"todo está permitido\" no es ni moralidad ni nada', options: options_, horizontal:true, required:true},\n",
      "{prompt:'Preferiría ser más conocido como \"piadoso/a\" que como \"justo/a\"', options: options_, horizontal:true, required:true},\n",
      "{prompt:'Pienso dos veces antes de responder a una pregunta', options: options_, horizontal:true, required:true},\n"
     ]
    }
   ],
   "source": [
    "for q in quests:\n",
    "    print(\"{prompt:\"+ f\"'{q}'\" + \", options: options_, horizontal:true, required:true},\")"
   ]
  },
  {
   "cell_type": "code",
   "execution_count": null,
   "metadata": {},
   "outputs": [],
   "source": []
  },
  {
   "cell_type": "code",
   "execution_count": null,
   "metadata": {},
   "outputs": [],
   "source": []
  },
  {
   "cell_type": "code",
   "execution_count": 3,
   "metadata": {
    "collapsed": false,
    "jupyter": {
     "outputs_hidden": false
    }
   },
   "outputs": [],
   "source": [
    "path = './Resultados'"
   ]
  },
  {
   "cell_type": "code",
   "execution_count": 5,
   "metadata": {
    "collapsed": false,
    "jupyter": {
     "outputs_hidden": false
    }
   },
   "outputs": [],
   "source": [
    "with open(path + '/Resultados TEMPS-A MAGO.txt', 'r') as temps:\n",
    "    tempsmago = temps.read()\n",
    "with open(path + '/Resultados TEMPS-A ALI.txt', 'r') as temps:\n",
    "    tempsali = temps.read()"
   ]
  },
  {
   "cell_type": "code",
   "execution_count": 6,
   "metadata": {},
   "outputs": [],
   "source": [
    "def contarV(respuestas):\n",
    "    subs = ['D', 'C', 'H', 'I', 'A']\n",
    "    intervalos = [(1, 21), (22, 42), (43, 63), (64, 84), (85, 110)]\n",
    "    return {k:v for k, v in zip(subs, [respuestas[interv[0] - 1: interv[1]].count('1') for interv in intervalos])}"
   ]
  },
  {
   "cell_type": "code",
   "execution_count": 7,
   "metadata": {
    "collapsed": false,
    "jupyter": {
     "outputs_hidden": false
    }
   },
   "outputs": [],
   "source": [
    "mg = contarV(tempsmago.split('\\n'))"
   ]
  },
  {
   "cell_type": "code",
   "execution_count": 8,
   "metadata": {
    "collapsed": false,
    "jupyter": {
     "outputs_hidden": false
    }
   },
   "outputs": [],
   "source": [
    "al = contarV(tempsali.split('\\n'))"
   ]
  },
  {
   "cell_type": "code",
   "execution_count": 14,
   "metadata": {
    "collapsed": false,
    "jupyter": {
     "outputs_hidden": false
    }
   },
   "outputs": [],
   "source": [
    "%matplotlib inline\n",
    "import matplotlib.pyplot as plt\n",
    "import seaborn as sns\n",
    "def graphQ(dic, n):\n",
    "    f, ax = plt.subplots(figsize=(10, 4))\n",
    "    fig = sns.barplot(sorted(dic, key = dic.get), [dic[k] for k in sorted(dic, key = dic.get)])\n",
    "    plt.title(n)\n",
    "    plt.ylabel('Puntajes')\n",
    "    plt.xlabel('Subescalas')\n",
    "    plt.ylim((0, 100))"
   ]
  },
  {
   "cell_type": "code",
   "execution_count": 15,
   "metadata": {
    "collapsed": false,
    "jupyter": {
     "outputs_hidden": false
    }
   },
   "outputs": [],
   "source": [
    "#NEOP\n",
    "clases = 'N1 N2 N3 N4 N5 N6 N E1 E2 E3 E4 E5 E6 E O1 O2 O3 O4 O5 O6 O A1 A2 A3 A4 A5 A6 A C1 C2 C3 C4 C5 C6 C'\n",
    "vbrutos_ali = '17,5,11,2,14,12,61,17,8,12,22,14,12,85,24,17,13,16,21,18,109,15,11,15,12,23,18,94,16,14,11,15,12,5,73'\n",
    "vbrutos_mago = '17,19,4,9,18,8,75,10,13,14,13,17,11,78,16,12,24,23,12,22,109,7,10,6,15,6,17,61,14,13,12,15,12,9,75'\n",
    "per_ali = [65, 9, 43, 0, 36, 69, 16, 6, 4, 27, 85, 40, 4, 9, 94, 41, 4, 49,\n",
    "           74, 30, 25, 8, 1, 0, 4, 86, 17, 1, 7, 14, 0, 12, 4, 1, 1]\n",
    "per_mago = [81, 93, 6, 15, 76, 47, 50, 0, 30, 34, 19, 51, 8, 3, 48, 21, 89, \n",
    "            97, 7, 65, 50, 0, 2, 0, 22, 11, 33, 0, 2, 9, 0, 18, 3, 1, 0]"
   ]
  },
  {
   "cell_type": "code",
   "execution_count": 16,
   "metadata": {
    "collapsed": false,
    "jupyter": {
     "outputs_hidden": false
    }
   },
   "outputs": [
    {
     "name": "stdout",
     "output_type": "stream",
     "text": [
      "('N1', 65)\n",
      "('N2', 9)\n",
      "('N3', 43)\n",
      "('N4', 0)\n",
      "('N5', 36)\n",
      "('N6', 69)\n",
      "('N', 16)\n",
      "('E1', 6)\n",
      "('E2', 4)\n",
      "('E3', 27)\n",
      "('E4', 85)\n",
      "('E5', 40)\n",
      "('E6', 4)\n",
      "('E', 9)\n",
      "('O1', 94)\n",
      "('O2', 41)\n",
      "('O3', 4)\n",
      "('O4', 49)\n",
      "('O5', 74)\n",
      "('O6', 30)\n",
      "('O', 25)\n",
      "('A1', 8)\n",
      "('A2', 1)\n",
      "('A3', 0)\n",
      "('A4', 4)\n",
      "('A5', 86)\n",
      "('A6', 17)\n",
      "('A', 1)\n",
      "('C1', 7)\n",
      "('C2', 14)\n",
      "('C3', 0)\n",
      "('C4', 12)\n",
      "('C5', 4)\n",
      "('C6', 1)\n",
      "('C', 1)\n"
     ]
    }
   ],
   "source": [
    "for i in zip(clases.split(), per_ali):\n",
    "    print(i)"
   ]
  },
  {
   "cell_type": "code",
   "execution_count": 18,
   "metadata": {
    "collapsed": false,
    "jupyter": {
     "outputs_hidden": false
    }
   },
   "outputs": [
    {
     "data": {
      "image/png": "[encoded data removed]",
      "text/plain": [
       "<Figure size 720x288 with 1 Axes>"
      ]
     },
     "metadata": {
      "needs_background": "light"
     },
     "output_type": "display_data"
    }
   ],
   "source": [
    "graphQ({k:v for k, v in zip(clases.split(), per_mago) if k[-1].isdigit()}, 'NEO-PI-R Mago')\n",
    "#graphQ({k:v for k, v in zip(clases.split(), per_mago) if not k[-1].isdigit()}, 'a')"
   ]
  },
  {
   "cell_type": "code",
   "execution_count": null,
   "metadata": {},
   "outputs": [],
   "source": []
  }
 ],
 "metadata": {
  "kernelspec": {
   "display_name": "Python 3",
   "language": "python",
   "name": "python3"
  },
  "language_info": {
   "codemirror_mode": {
    "name": "ipython",
    "version": 3
   },
   "file_extension": ".py",
   "mimetype": "text/x-python",
   "name": "python",
   "nbconvert_exporter": "python",
   "pygments_lexer": "ipython3",
   "version": "3.7.3"
  }
 },
 "nbformat": 4,
 "nbformat_minor": 4
}
