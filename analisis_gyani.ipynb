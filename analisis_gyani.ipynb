{
 "cells": [
  {
   "cell_type": "code",
   "execution_count": 384,
   "metadata": {},
   "outputs": [],
   "source": [
    "# para buscar archivos\n",
    "from glob import glob\n",
    "# super excel para analizar\n",
    "import pandas as pd\n",
    "# para leer los datos .json\n",
    "import json\n",
    "# para hacer busquedas en strings\n",
    "import re\n",
    "# para operaciones numericas\n",
    "import numpy as np\n",
    "# para que quede mas lindo\n",
    "import warnings\n",
    "warnings.filterwarnings('ignore')"
   ]
  },
  {
   "cell_type": "code",
   "execution_count": 385,
   "metadata": {},
   "outputs": [],
   "source": [
    "# Para bajar los datos (Mati)\n",
    "# aws s3 sync s3://unket/gyani ./data"
   ]
  },
  {
   "cell_type": "code",
   "execution_count": 465,
   "metadata": {},
   "outputs": [],
   "source": [
    "def dato2df(f):\n",
    "    \"\"\"recibe path al archivo y devuelve DataFrame\"\"\"\n",
    "    with open(f, 'r') as inp:\n",
    "        i = inp.read()#.decode('latin1')\n",
    "        #i = re.sub(r\"\\\\+\", r\"\", i)\n",
    "        i = json.loads(i)[1:-1]\n",
    "        #i = re.sub(r'\"{', r'\\\"{', i)\n",
    "        #i = re.sub(r'}\"', r'}\\\"', i)\n",
    "    return i#pd.read_json(j)"
   ]
  },
  {
   "cell_type": "code",
   "execution_count": 466,
   "metadata": {},
   "outputs": [
    {
     "data": {
      "text/plain": [
       "12"
      ]
     },
     "execution_count": 466,
     "metadata": {},
     "output_type": "execute_result"
    }
   ],
   "source": [
    "files = glob('./datos/*.json')\n",
    "len(files)"
   ]
  },
  {
   "cell_type": "code",
   "execution_count": 467,
   "metadata": {},
   "outputs": [],
   "source": [
    "data = []\n",
    "for f in files:\n",
    "    d = dato2df(f)\n",
    "    data.append(d)    \n",
    "    break"
   ]
  },
  {
   "cell_type": "code",
   "execution_count": 468,
   "metadata": {},
   "outputs": [
    {
     "name": "stdout",
     "output_type": "stream",
     "text": [
      "[{\\\"rt\\\":2016,\\\"stimulus\\\":\\\"<font size=5.5><p>¡Hola!</p><p><p>Esta encuesta forma parte del proyecto de investigación y divulgación científica <b>Neurotransmitiendo</b>.</p><p>La encuesta está dirigida únicamente a psicólogos recibidos que estén o hayan trabajado en el ámbito clínico. Se agradece mucho la difusión de la misma a colegas que trabajen en el mismo ámbito.</p><p>La participación en la misma es voluntaria teniendo el control de desistir si lo desea. La información que se recoja con este instrumento es confidencial y se utilizará solamente con fines científicos. Al participar de esta encuesta en línea su consentimiento informado será tomado como dado. Ante cualquier duda, puede escribir a <b>ntransmitiendo@gmail.com</b>\\\",\\\"button_pressed\\\":\\\"0\\\",\\\"trial_type\\\":\\\"html-button-response\\\",\\\"trial_index\\\":0,\\\"time_elapsed\\\":2032,\\\"internal_node_id\\\":\\\"0.0-0.0\\\"},{\\\"rt\\\":3326,\\\"stimulus\\\":\\\"<font size=5.5><p>Continuando con el experimento aceptás aportar los datos generados, ayudándonos en nuestra labor de curiosidad científica. </p><p>Te haremos algunas preguntas sobre tu práctica profesional.<p>Procurá estar en un ambiente tranquilo y prestar la mayor atención posible.</p>\\\",\\\"button_pressed\\\":\\\"0\\\",\\\"trial_type\\\":\\\"html-button-response\\\",\\\"trial_index\\\":1,\\\"time_elapsed\\\":5361,\\\"internal_node_id\\\":\\\"0.0-1.0\\\"},{\\\"rt\\\":3681.53500003973,\\\"responses\\\":\\\"{\\\\\\\"undefined\\\\\\\":\\\\\\\" \\\\\\\"}\\\",\\\"trial_type\\\":\\\"survey-text\\\",\\\"trial_index\\\":2,\\\"time_elapsed\\\":9060,\\\"internal_node_id\\\":\\\"0.0-2.0\\\"},{\\\"rt\\\":1673,\\\"responses\\\":\\\"{\\\\\\\"Q0\\\\\\\":\\\\\\\"Femenino\\\\\\\",\\\\\\\"Q1\\\\\\\":\\\\\\\"Licenciatura de grado\\\\\\\"}\\\",\\\"trial_type\\\":\\\"survey-multi-choice\\\",\\\"trial_index\\\":3,\\\"time_elapsed\\\":10745,\\\"internal_node_id\\\":\\\"0.0-3.0\\\"},{\\\"rt\\\":2909,\\\"responses\\\":\\\"{\\\\\\\"Q0\\\\\\\":\\\\\\\"Ecléctica (más de una/de todo un poco/depende el paciente)\\\\\\\"}\\\",\\\"trial_type\\\":\\\"survey-multi-choice\\\",\\\"trial_index\\\":4,\\\"time_elapsed\\\":13667,\\\"internal_node_id\\\":\\\"0.0-5.0\\\"},{\\\"rt\\\":1574.4100000010803,\\\"responses\\\":\\\"{\\\\\\\"undefined\\\\\\\":\\\\\\\" \\\\\\\"}\\\",\\\"trial_type\\\":\\\"survey-text\\\",\\\"trial_index\\\":5,\\\"time_elapsed\\\":15248,\\\"internal_node_id\\\":\\\"0.0-9.0-0.0\\\"},{\\\"rt\\\":3702,\\\"responses\\\":\\\"{\\\\\\\"Q0\\\\\\\":[\\\\\\\"Obra Social\\\\\\\",\\\\\\\"Otro\\\\\\\"]}\\\",\\\"trial_type\\\":\\\"survey-multi-select\\\",\\\"trial_index\\\":6,\\\"time_elapsed\\\":18956,\\\"internal_node_id\\\":\\\"0.0-11.0\\\"},{\\\"rt\\\":1475.559999991674,\\\"responses\\\":\\\"{\\\\\\\"undefined\\\\\\\":\\\\\\\" \\\\\\\"}\\\",\\\"trial_type\\\":\\\"survey-text\\\",\\\"trial_index\\\":7,\\\"time_elapsed\\\":20437,\\\"internal_node_id\\\":\\\"0.0-12.0-0.0\\\"},{\\\"rt\\\":5698,\\\"responses\\\":\\\"{\\\\\\\"Q0\\\\\\\":\\\\\\\"No influyó para nada\\\\\\\",\\\\\\\"Q1\\\\\\\":\\\\\\\"No influyó para nada\\\\\\\",\\\\\\\"Q2\\\\\\\":\\\\\\\"No influyó para nada\\\\\\\",\\\\\\\"Q3\\\\\\\":\\\\\\\"No influyó para nada\\\\\\\",\\\\\\\"Q4\\\\\\\":\\\\\\\"No influyó para nada\\\\\\\",\\\\\\\"Q5\\\\\\\":\\\\\\\"No influyó para nada\\\\\\\",\\\\\\\"Q6\\\\\\\":\\\\\\\"No influyó para nada\\\\\\\"}\\\",\\\"trial_type\\\":\\\"survey-multi-choice\\\",\\\"trial_index\\\":8,\\\"time_elapsed\\\":26159,\\\"internal_node_id\\\":\\\"0.0-13.0\\\"},{\\\"rt\\\":3291,\\\"responses\\\":\\\"{\\\\\\\"Q0\\\\\\\":\\\\\\\"Nunca\\\\\\\",\\\\\\\"Q1\\\\\\\":\\\\\\\"Nunca\\\\\\\",\\\\\\\"Q2\\\\\\\":\\\\\\\"Nunca\\\\\\\",\\\\\\\"Q3\\\\\\\":\\\\\\\"Nunca\\\\\\\",\\\\\\\"Q4\\\\\\\":\\\\\\\"Nunca\\\\\\\",\\\\\\\"Q5\\\\\\\":\\\\\\\"Nunca\\\\\\\",\\\\\\\"Q6\\\\\\\":\\\\\\\"Nunca\\\\\\\",\\\\\\\"Q7\\\\\\\":\\\\\\\"Nunca\\\\\\\",\\\\\\\"Q8\\\\\\\":\\\\\\\"Nunca\\\\\\\"}\\\",\\\"trial_type\\\":\\\"survey-multi-choice\\\",\\\"trial_index\\\":9,\\\"time_elapsed\\\":29481,\\\"internal_node_id\\\":\\\"0.0-14.0\\\"},{\\\"rt\\\":4232,\\\"responses\\\":\\\"{\\\\\\\"Q0\\\\\\\":\\\\\\\"Fuertemente en desacuerdo\\\\\\\",\\\\\\\"Q1\\\\\\\":\\\\\\\"Fuertemente en desacuerdo\\\\\\\",\\\\\\\"Q2\\\\\\\":\\\\\\\"Fuertemente en desacuerdo\\\\\\\",\\\\\\\"Q3\\\\\\\":\\\\\\\"Fuertemente en desacuerdo\\\\\\\",\\\\\\\"Q4\\\\\\\":\\\\\\\"Fuertemente en desacuerdo\\\\\\\",\\\\\\\"Q5\\\\\\\":\\\\\\\"Fuertemente en desacuerdo\\\\\\\",\\\\\\\"Q6\\\\\\\":\\\\\\\"Fuertemente en desacuerdo\\\\\\\",\\\\\\\"Q7\\\\\\\":\\\\\\\"Fuertemente en desacuerdo\\\\\\\",\\\\\\\"Q8\\\\\\\":\\\\\\\"Fuertemente en desacuerdo\\\\\\\",\\\\\\\"Q9\\\\\\\":\\\\\\\"Fuertemente en desacuerdo\\\\\\\",\\\\\\\"Q10\\\\\\\":\\\\\\\"Fuertemente en desacuerdo\\\\\\\",\\\\\\\"Q11\\\\\\\":\\\\\\\"Fuertemente en desacuerdo\\\\\\\"}\\\",\\\"trial_type\\\":\\\"survey-multi-choice\\\",\\\"trial_index\\\":10,\\\"time_elapsed\\\":33761,\\\"internal_node_id\\\":\\\"0.0-15.0\\\"},{\\\"rt\\\":4655,\\\"responses\\\":\\\"{\\\\\\\"Q0\\\\\\\":\\\\\\\"Fuertemente en desacuerdo\\\\\\\",\\\\\\\"Q1\\\\\\\":\\\\\\\"Fuertemente en desacuerdo\\\\\\\",\\\\\\\"Q2\\\\\\\":\\\\\\\"Fuertemente en desacuerdo\\\\\\\",\\\\\\\"Q3\\\\\\\":\\\\\\\"Fuertemente en desacuerdo\\\\\\\",\\\\\\\"Q4\\\\\\\":\\\\\\\"Fuertemente en desacuerdo\\\\\\\",\\\\\\\"Q5\\\\\\\":\\\\\\\"Fuertemente en desacuerdo\\\\\\\",\\\\\\\"Q6\\\\\\\":\\\\\\\"Fuertemente en desacuerdo\\\\\\\",\\\\\\\"Q7\\\\\\\":\\\\\\\"Fuertemente en desacuerdo\\\\\\\",\\\\\\\"Q8\\\\\\\":\\\\\\\"Fuertemente en desacuerdo\\\\\\\",\\\\\\\"Q9\\\\\\\":\\\\\\\"Fuertemente en desacuerdo\\\\\\\",\\\\\\\"Q10\\\\\\\":\\\\\\\"Fuertemente en desacuerdo\\\\\\\",\\\\\\\"Q11\\\\\\\":\\\\\\\"Fuertemente en desacuerdo\\\\\\\"}\\\",\\\"trial_type\\\":\\\"survey-multi-choice\\\",\\\"trial_index\\\":11,\\\"time_elapsed\\\":38462,\\\"internal_node_id\\\":\\\"0.0-16.0\\\"},{\\\"rt\\\":2065.469999972265,\\\"responses\\\":\\\"{\\\\\\\"undefined\\\\\\\":\\\\\\\" \\\\\\\"}\\\",\\\"trial_type\\\":\\\"survey-text\\\",\\\"trial_index\\\":12,\\\"time_elapsed\\\":40613,\\\"internal_node_id\\\":\\\"0.0-17.0\\\"}]\n"
     ]
    }
   ],
   "source": [
    "print(d)"
   ]
  },
  {
   "cell_type": "code",
   "execution_count": 469,
   "metadata": {},
   "outputs": [
    {
     "ename": "JSONDecodeError",
     "evalue": "Expecting property name enclosed in double quotes: line 1 column 3 (char 2)",
     "output_type": "error",
     "traceback": [
      "\u001b[0;31m---------------------------------------------------------------------------\u001b[0m",
      "\u001b[0;31mJSONDecodeError\u001b[0m                           Traceback (most recent call last)",
      "\u001b[0;32m<ipython-input-469-982442a01cb4>\u001b[0m in \u001b[0;36m<module>\u001b[0;34m\u001b[0m\n\u001b[1;32m      1\u001b[0m \u001b[0;31m# No pude parsear el json\u001b[0m\u001b[0;34m\u001b[0m\u001b[0;34m\u001b[0m\u001b[0;34m\u001b[0m\u001b[0m\n\u001b[0;32m----> 2\u001b[0;31m \u001b[0mjson\u001b[0m\u001b[0;34m.\u001b[0m\u001b[0mloads\u001b[0m\u001b[0;34m(\u001b[0m\u001b[0md\u001b[0m\u001b[0;34m)\u001b[0m\u001b[0;34m\u001b[0m\u001b[0;34m\u001b[0m\u001b[0m\n\u001b[0m",
      "\u001b[0;32m~/anaconda3/lib/python3.7/json/__init__.py\u001b[0m in \u001b[0;36mloads\u001b[0;34m(s, encoding, cls, object_hook, parse_float, parse_int, parse_constant, object_pairs_hook, **kw)\u001b[0m\n\u001b[1;32m    346\u001b[0m             \u001b[0mparse_int\u001b[0m \u001b[0;32mis\u001b[0m \u001b[0;32mNone\u001b[0m \u001b[0;32mand\u001b[0m \u001b[0mparse_float\u001b[0m \u001b[0;32mis\u001b[0m \u001b[0;32mNone\u001b[0m \u001b[0;32mand\u001b[0m\u001b[0;34m\u001b[0m\u001b[0;34m\u001b[0m\u001b[0m\n\u001b[1;32m    347\u001b[0m             parse_constant is None and object_pairs_hook is None and not kw):\n\u001b[0;32m--> 348\u001b[0;31m         \u001b[0;32mreturn\u001b[0m \u001b[0m_default_decoder\u001b[0m\u001b[0;34m.\u001b[0m\u001b[0mdecode\u001b[0m\u001b[0;34m(\u001b[0m\u001b[0ms\u001b[0m\u001b[0;34m)\u001b[0m\u001b[0;34m\u001b[0m\u001b[0;34m\u001b[0m\u001b[0m\n\u001b[0m\u001b[1;32m    349\u001b[0m     \u001b[0;32mif\u001b[0m \u001b[0mcls\u001b[0m \u001b[0;32mis\u001b[0m \u001b[0;32mNone\u001b[0m\u001b[0;34m:\u001b[0m\u001b[0;34m\u001b[0m\u001b[0;34m\u001b[0m\u001b[0m\n\u001b[1;32m    350\u001b[0m         \u001b[0mcls\u001b[0m \u001b[0;34m=\u001b[0m \u001b[0mJSONDecoder\u001b[0m\u001b[0;34m\u001b[0m\u001b[0;34m\u001b[0m\u001b[0m\n",
      "\u001b[0;32m~/anaconda3/lib/python3.7/json/decoder.py\u001b[0m in \u001b[0;36mdecode\u001b[0;34m(self, s, _w)\u001b[0m\n\u001b[1;32m    335\u001b[0m \u001b[0;34m\u001b[0m\u001b[0m\n\u001b[1;32m    336\u001b[0m         \"\"\"\n\u001b[0;32m--> 337\u001b[0;31m         \u001b[0mobj\u001b[0m\u001b[0;34m,\u001b[0m \u001b[0mend\u001b[0m \u001b[0;34m=\u001b[0m \u001b[0mself\u001b[0m\u001b[0;34m.\u001b[0m\u001b[0mraw_decode\u001b[0m\u001b[0;34m(\u001b[0m\u001b[0ms\u001b[0m\u001b[0;34m,\u001b[0m \u001b[0midx\u001b[0m\u001b[0;34m=\u001b[0m\u001b[0m_w\u001b[0m\u001b[0;34m(\u001b[0m\u001b[0ms\u001b[0m\u001b[0;34m,\u001b[0m \u001b[0;36m0\u001b[0m\u001b[0;34m)\u001b[0m\u001b[0;34m.\u001b[0m\u001b[0mend\u001b[0m\u001b[0;34m(\u001b[0m\u001b[0;34m)\u001b[0m\u001b[0;34m)\u001b[0m\u001b[0;34m\u001b[0m\u001b[0;34m\u001b[0m\u001b[0m\n\u001b[0m\u001b[1;32m    338\u001b[0m         \u001b[0mend\u001b[0m \u001b[0;34m=\u001b[0m \u001b[0m_w\u001b[0m\u001b[0;34m(\u001b[0m\u001b[0ms\u001b[0m\u001b[0;34m,\u001b[0m \u001b[0mend\u001b[0m\u001b[0;34m)\u001b[0m\u001b[0;34m.\u001b[0m\u001b[0mend\u001b[0m\u001b[0;34m(\u001b[0m\u001b[0;34m)\u001b[0m\u001b[0;34m\u001b[0m\u001b[0;34m\u001b[0m\u001b[0m\n\u001b[1;32m    339\u001b[0m         \u001b[0;32mif\u001b[0m \u001b[0mend\u001b[0m \u001b[0;34m!=\u001b[0m \u001b[0mlen\u001b[0m\u001b[0;34m(\u001b[0m\u001b[0ms\u001b[0m\u001b[0;34m)\u001b[0m\u001b[0;34m:\u001b[0m\u001b[0;34m\u001b[0m\u001b[0;34m\u001b[0m\u001b[0m\n",
      "\u001b[0;32m~/anaconda3/lib/python3.7/json/decoder.py\u001b[0m in \u001b[0;36mraw_decode\u001b[0;34m(self, s, idx)\u001b[0m\n\u001b[1;32m    351\u001b[0m         \"\"\"\n\u001b[1;32m    352\u001b[0m         \u001b[0;32mtry\u001b[0m\u001b[0;34m:\u001b[0m\u001b[0;34m\u001b[0m\u001b[0;34m\u001b[0m\u001b[0m\n\u001b[0;32m--> 353\u001b[0;31m             \u001b[0mobj\u001b[0m\u001b[0;34m,\u001b[0m \u001b[0mend\u001b[0m \u001b[0;34m=\u001b[0m \u001b[0mself\u001b[0m\u001b[0;34m.\u001b[0m\u001b[0mscan_once\u001b[0m\u001b[0;34m(\u001b[0m\u001b[0ms\u001b[0m\u001b[0;34m,\u001b[0m \u001b[0midx\u001b[0m\u001b[0;34m)\u001b[0m\u001b[0;34m\u001b[0m\u001b[0;34m\u001b[0m\u001b[0m\n\u001b[0m\u001b[1;32m    354\u001b[0m         \u001b[0;32mexcept\u001b[0m \u001b[0mStopIteration\u001b[0m \u001b[0;32mas\u001b[0m \u001b[0merr\u001b[0m\u001b[0;34m:\u001b[0m\u001b[0;34m\u001b[0m\u001b[0;34m\u001b[0m\u001b[0m\n\u001b[1;32m    355\u001b[0m             \u001b[0;32mraise\u001b[0m \u001b[0mJSONDecodeError\u001b[0m\u001b[0;34m(\u001b[0m\u001b[0;34m\"Expecting value\"\u001b[0m\u001b[0;34m,\u001b[0m \u001b[0ms\u001b[0m\u001b[0;34m,\u001b[0m \u001b[0merr\u001b[0m\u001b[0;34m.\u001b[0m\u001b[0mvalue\u001b[0m\u001b[0;34m)\u001b[0m \u001b[0;32mfrom\u001b[0m \u001b[0;32mNone\u001b[0m\u001b[0;34m\u001b[0m\u001b[0;34m\u001b[0m\u001b[0m\n",
      "\u001b[0;31mJSONDecodeError\u001b[0m: Expecting property name enclosed in double quotes: line 1 column 3 (char 2)"
     ]
    }
   ],
   "source": [
    "# No pude parsear el json\n",
    "json.loads(d)"
   ]
  },
  {
   "cell_type": "code",
   "execution_count": 397,
   "metadata": {},
   "outputs": [],
   "source": [
    "df = pd.DataFrame(data)"
   ]
  },
  {
   "cell_type": "code",
   "execution_count": 398,
   "metadata": {},
   "outputs": [
    {
     "data": {
      "text/plain": [
       "(1, 1)"
      ]
     },
     "execution_count": 398,
     "metadata": {},
     "output_type": "execute_result"
    }
   ],
   "source": [
    "df.shape"
   ]
  },
  {
   "cell_type": "code",
   "execution_count": null,
   "metadata": {},
   "outputs": [],
   "source": []
  }
 ],
 "metadata": {
  "kernelspec": {
   "display_name": "Python 3",
   "language": "python",
   "name": "python3"
  },
  "language_info": {
   "codemirror_mode": {
    "name": "ipython",
    "version": 3
   },
   "file_extension": ".py",
   "mimetype": "text/x-python",
   "name": "python",
   "nbconvert_exporter": "python",
   "pygments_lexer": "ipython3",
   "version": "3.7.4"
  }
 },
 "nbformat": 4,
 "nbformat_minor": 4
}
