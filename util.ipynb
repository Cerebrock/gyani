{
 "cells": [
  {
   "cell_type": "code",
   "execution_count": 1,
   "metadata": {},
   "outputs": [],
   "source": [
    "with open('replica england', 'r') as inp:\n",
    "    raw = inp.read()"
   ]
  },
  {
   "cell_type": "code",
   "execution_count": 24,
   "metadata": {},
   "outputs": [],
   "source": [
    "quests = \"\"\"- I am willing to use new and different types of therapy developed by researchers\n",
    "\t- My clients are more complex and diverse than those in clinical trials\n",
    "\t- It is my professional duty to keep up with new developments in treatment research\n",
    "\t- My clients prefer other treatments than evidence based treatments\n",
    "\t- My training emphasized research findings Therapy cannot be manualised\n",
    "\t- My supervisors require me to use evidence based treatments*\n",
    "\t- The diagnoses used in treatment trials are too simple\n",
    "\t- Evidence based treatments are cost effective The treatments I favour have not been tested in a randomized controlled trial\n",
    "\t- I may attract new clients by learning an evidence based treatment\n",
    "\t- I have an individual treatment approach for each client\n",
    "\t- It is important to incorporate scientific findings into my everyday practice\n",
    "\t- I do not have the time to learn evidence based treatments \n",
    "\t- I would try a new therapy even if it was very different from what I am used to doing\n",
    "\t- Training in evidence based treatments would cost me too much money personally\n",
    "\t- I am interested in learning evidence based treatments I do not know which treatments are evidence based\n",
    "\t- The treatments I use with my clients have an empirical basis\n",
    "\t- My clinical training did not provide sufficient information about evidence based treatments\n",
    "\t- The therapeutic alliance is more important than learning how to do a specific form of psychotherapy\n",
    "\t- Most therapies are equally effective \n",
    "\t- My employer does not have the funds for training in evidence based treatments*\n",
    "\t- Clinical experience is more important as a guide to treatment than research evidence\"\"\".replace('-', '').split('\\n')"
   ]
  },
  {
   "cell_type": "code",
   "execution_count": 26,
   "metadata": {},
   "outputs": [
    {
     "name": "stdout",
     "output_type": "stream",
     "text": [
      "{prompt:'I am willing to use new and different types of therapy developed by researchers', options: scale, horizontal:true, required:true},\n",
      "{prompt:'My clients are more complex and diverse than those in clinical trials', options: scale, horizontal:true, required:true},\n",
      "{prompt:'It is my professional duty to keep up with new developments in treatment research', options: scale, horizontal:true, required:true},\n",
      "{prompt:'My clients prefer other treatments than evidence based treatments', options: scale, horizontal:true, required:true},\n",
      "{prompt:'My training emphasized research findings therapy cannot be manualised', options: scale, horizontal:true, required:true},\n",
      "{prompt:'My supervisors require me to use evidence based treatments*', options: scale, horizontal:true, required:true},\n",
      "{prompt:'The diagnoses used in treatment trials are too simple', options: scale, horizontal:true, required:true},\n",
      "{prompt:'Evidence based treatments are cost effective the treatments i favour have not been tested in a randomized controlled trial', options: scale, horizontal:true, required:true},\n",
      "{prompt:'I may attract new clients by learning an evidence based treatment', options: scale, horizontal:true, required:true},\n",
      "{prompt:'I have an individual treatment approach for each client', options: scale, horizontal:true, required:true},\n",
      "{prompt:'It is important to incorporate scientific findings into my everyday practice', options: scale, horizontal:true, required:true},\n",
      "{prompt:'I do not have the time to learn evidence based treatments', options: scale, horizontal:true, required:true},\n",
      "{prompt:'I would try a new therapy even if it was very different from what i am used to doing', options: scale, horizontal:true, required:true},\n",
      "{prompt:'Training in evidence based treatments would cost me too much money personally', options: scale, horizontal:true, required:true},\n",
      "{prompt:'I am interested in learning evidence based treatments i do not know which treatments are evidence based', options: scale, horizontal:true, required:true},\n",
      "{prompt:'The treatments i use with my clients have an empirical basis', options: scale, horizontal:true, required:true},\n",
      "{prompt:'My clinical training did not provide sufficient information about evidence based treatments', options: scale, horizontal:true, required:true},\n",
      "{prompt:'The therapeutic alliance is more important than learning how to do a specific form of psychotherapy', options: scale, horizontal:true, required:true},\n",
      "{prompt:'Most therapies are equally effective', options: scale, horizontal:true, required:true},\n",
      "{prompt:'My employer does not have the funds for training in evidence based treatments*', options: scale, horizontal:true, required:true},\n",
      "{prompt:'Clinical experience is more important as a guide to treatment than research evidence', options: scale, horizontal:true, required:true},\n"
     ]
    }
   ],
   "source": [
    "for q in quests:\n",
    "    print(\"{prompt:\"+ f\"'{q.strip().capitalize()}'\" + \", options: scale, horizontal:true, required:true},\")"
   ]
  }
 ],
 "metadata": {
  "kernelspec": {
   "display_name": "Python 3",
   "language": "python",
   "name": "python3"
  },
  "language_info": {
   "codemirror_mode": {
    "name": "ipython",
    "version": 3
   },
   "file_extension": ".py",
   "mimetype": "text/x-python",
   "name": "python",
   "nbconvert_exporter": "python",
   "pygments_lexer": "ipython3",
   "version": "3.7.3"
  }
 },
 "nbformat": 4,
 "nbformat_minor": 4
}
