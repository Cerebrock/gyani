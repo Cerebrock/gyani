{
 "cells": [
  {
   "cell_type": "code",
   "execution_count": 1,
   "metadata": {},
   "outputs": [
    {
     "name": "stdout",
     "output_type": "stream",
     "text": [
      "/home/matias/Matias/Investigación/gyani/data_server\n"
     ]
    }
   ],
   "source": [
    "%cd ./data_server"
   ]
  },
  {
   "cell_type": "code",
   "execution_count": 2,
   "metadata": {},
   "outputs": [
    {
     "name": "stdout",
     "output_type": "stream",
     "text": [
      "app  Dockerfile  nginx\n"
     ]
    }
   ],
   "source": [
    "!ls"
   ]
  },
  {
   "cell_type": "code",
   "execution_count": 3,
   "metadata": {},
   "outputs": [],
   "source": [
    "#!mkdir -p app"
   ]
  },
  {
   "cell_type": "code",
   "execution_count": 14,
   "metadata": {},
   "outputs": [
    {
     "name": "stdout",
     "output_type": "stream",
     "text": [
      "Overwriting ./app/main.py\n"
     ]
    }
   ],
   "source": [
    "%%writefile ./app/main.py\n",
    "# -*- coding: utf-8 -*-\n",
    "\n",
    "import os\n",
    "from time import strftime\n",
    "import json\n",
    "import boto3\n",
    "from flask import Flask, render_template, request\n",
    "from flask_cors import CORS\n",
    "\n",
    "#exp_path = os.path.dirname(os.path.abspath(__file__))\n",
    "app = Flask(__name__)#, template_folder=exp_path)\n",
    "s3 = boto3.client('s3')\n",
    "CORS(app)\n",
    "\n",
    "bucket_name = 'unket'\n",
    "folder = 'gyani'\n",
    "\n",
    "@app.route('/postdata', methods = ['POST'])\n",
    "def get_data(to_s3=True):\n",
    "    ref = request.headers.get(\"Referer\").split('/')[-1]\n",
    "    out_name = folder + '/' + ref + strftime('%Y-%m-%d_%H-%M-%S') + \".json\"\n",
    "    data = request.form['data']\n",
    "    print(out_name)\n",
    "\n",
    "    if to_s3:\n",
    "        resp = s3.put_object(Bucket=bucket_name,\n",
    "                  Key=out_name,\n",
    "                  Body=json.dumps(data))\n",
    "    else:\n",
    "        with open(exp_path + '\\data\\\\' + out_name, 'a+') as out:\n",
    "            out.write(data)\n",
    "    return ''\n",
    "\n",
    "@app.route('/', methods = ['GET'])\n",
    "def greet():\n",
    "    return '<div>Server para recolección</div>'\n",
    "\n",
    "if __name__ == '__main__':\n",
    "    app.run(host=\"0.0.0.0\", port='80', debug=True)"
   ]
  },
  {
   "cell_type": "code",
   "execution_count": 8,
   "metadata": {},
   "outputs": [
    {
     "name": "stdout",
     "output_type": "stream",
     "text": [
      "Overwriting ./Dockerfile\n"
     ]
    }
   ],
   "source": [
    "%%writefile ./Dockerfile\n",
    "FROM tiangolo/uwsgi-nginx-flask:python3.6\n",
    "\n",
    "COPY ./app /app\n",
    "COPY nginx /etc/nginx\n",
    "\n",
    "RUN pip install -r requirements.txt"
   ]
  },
  {
   "cell_type": "code",
   "execution_count": 1,
   "metadata": {},
   "outputs": [],
   "source": [
    "data = \"[{\\\"rt\\\":1656,\\\"stimulus\\\":\\\"<font size=5.5><p>¡Bienvenido!</p><p><p>Te haremos algunas preguntas sobre tu práctica profesional.<p>Procurá estar en un ambiente tranquilo y prestar la mayor atención posible.</p>\\\",\\\"button_pressed\\\":\\\"0\\\",\\\"trial_type\\\":\\\"html-button-response\\\",\\\"trial_index\\\":0,\\\"time_elapsed\\\":1664,\\\"internal_node_id\\\":\\\"0.0-0.0\\\"},{\\\"rt\\\":60101,\\\"stimulus\\\":\\\"<font size=5.5><p>Continuando con el experimento aceptás aportar los datos generados, ayudándonos en nuestra labor de curiosidad científica. </p><p>Si ya juntaste la valentía suficiente, focalizá tu atención todo lo que puedas... y continuá</p>\\\",\\\"button_pressed\\\":\\\"0\\\",\\\"trial_type\\\":\\\"html-button-response\\\",\\\"trial_index\\\":1,\\\"time_elapsed\\\":61769,\\\"internal_node_id\\\":\\\"0.0-1.0\\\"},{\\\"rt\\\":1326,\\\"responses\\\":\\\"{\\\\\\\"Q0\\\\\\\":\\\\\\\"\\\\\\\",\\\\\\\"Q1\\\\\\\":\\\\\\\" \\\\\\\",\\\\\\\"Q2\\\\\\\":\\\\\\\" \\\\\\\",\\\\\\\"Q3\\\\\\\":\\\\\\\" \\\\\\\",\\\\\\\"Q4\\\\\\\":\\\\\\\" \\\\\\\"}\\\",\\\"trial_type\\\":\\\"survey-text\\\",\\\"trial_index\\\":2,\\\"time_elapsed\\\":63099,\\\"internal_node_id\\\":\\\"0.0-2.0\\\"},{\\\"rt\\\":2088,\\\"responses\\\":\\\"{\\\\\\\"Q0\\\\\\\":[\\\\\\\"Humanista\\\\\\\",\\\\\\\"Conductual\\\\\\\",\\\\\\\"Cognitivo-Conductual\\\\\\\",\\\\\\\"Sistémica\\\\\\\",\\\\\\\"Psicodrama/Musicoterapia\\\\\\\",\\\\\\\"EMDR\\\\\\\",\\\\\\\"Psicodinámica\\\\\\\",\\\\\\\"Psicoanálisis\\\\\\\",\\\\\\\"Ecléctica (de todo un poco)\\\\\\\"]}\\\",\\\"trial_type\\\":\\\"survey-multi-select\\\",\\\"trial_index\\\":3,\\\"time_elapsed\\\":65200,\\\"internal_node_id\\\":\\\"0.0-3.0\\\"},{\\\"rt\\\":354,\\\"responses\\\":\\\"{\\\\\\\"Q0\\\\\\\":\\\\\\\" \\\\\\\"}\\\",\\\"trial_type\\\":\\\"survey-text\\\",\\\"trial_index\\\":4,\\\"time_elapsed\\\":65557,\\\"internal_node_id\\\":\\\"0.0-4.0\\\"},{\\\"rt\\\":901,\\\"responses\\\":\\\"{\\\\\\\"Q0\\\\\\\":[\\\\\\\"Público\\\\\\\",\\\\\\\"Privado\\\\\\\",\\\\\\\"Obra Social\\\\\\\",\\\\\\\"Other\\\\\\\"]}\\\",\\\"trial_type\\\":\\\"survey-multi-select\\\",\\\"trial_index\\\":5,\\\"time_elapsed\\\":66465,\\\"internal_node_id\\\":\\\"0.0-5.0\\\"},{\\\"rt\\\":361,\\\"responses\\\":\\\"{\\\\\\\"Q0\\\\\\\":\\\\\\\" \\\\\\\"}\\\",\\\"trial_type\\\":\\\"survey-text\\\",\\\"trial_index\\\":6,\\\"time_elapsed\\\":66829,\\\"internal_node_id\\\":\\\"0.0-6.0\\\"},{\\\"rt\\\":1313,\\\"responses\\\":\\\"{\\\\\\\"Q0\\\\\\\":\\\\\\\"No influyó para nada\\\\\\\",\\\\\\\"Q1\\\\\\\":\\\\\\\"No influyó para nada\\\\\\\",\\\\\\\"Q2\\\\\\\":\\\\\\\"No influyó para nada\\\\\\\",\\\\\\\"Q3\\\\\\\":\\\\\\\"No influyó para nada\\\\\\\",\\\\\\\"Q4\\\\\\\":\\\\\\\"No influyó para nada\\\\\\\",\\\\\\\"Q5\\\\\\\":\\\\\\\"No influyó para nada\\\\\\\"}\\\",\\\"trial_type\\\":\\\"survey-multi-choice\\\",\\\"trial_index\\\":7,\\\"time_elapsed\\\":68159,\\\"internal_node_id\\\":\\\"0.0-7.0\\\"},{\\\"rt\\\":1982,\\\"responses\\\":\\\"{\\\\\\\"Q0\\\\\\\":\\\\\\\"Nunca\\\\\\\",\\\\\\\"Q1\\\\\\\":\\\\\\\"Nunca\\\\\\\",\\\\\\\"Q2\\\\\\\":\\\\\\\"Nunca\\\\\\\",\\\\\\\"Q3\\\\\\\":\\\\\\\"Nunca\\\\\\\",\\\\\\\"Q4\\\\\\\":\\\\\\\"Nunca\\\\\\\",\\\\\\\"Q5\\\\\\\":\\\\\\\"Nunca\\\\\\\",\\\\\\\"Q6\\\\\\\":\\\\\\\"Nunca\\\\\\\",\\\\\\\"Q7\\\\\\\":\\\\\\\"Nunca\\\\\\\",\\\\\\\"Q8\\\\\\\":\\\\\\\"Nunca\\\\\\\"}\\\",\\\"trial_type\\\":\\\"survey-multi-choice\\\",\\\"trial_index\\\":8,\\\"time_elapsed\\\":70163,\\\"internal_node_id\\\":\\\"0.0-8.0\\\"},{\\\"rt\\\":8883,\\\"responses\\\":\\\"{\\\\\\\"Q0\\\\\\\":\\\\\\\"Fuertemente en desacuerdo\\\\\\\",\\\\\\\"Q1\\\\\\\":\\\\\\\"Fuertemente en desacuerdo\\\\\\\",\\\\\\\"Q2\\\\\\\":\\\\\\\"Fuertemente en desacuerdo\\\\\\\",\\\\\\\"Q3\\\\\\\":\\\\\\\"Fuertemente en desacuerdo\\\\\\\",\\\\\\\"Q4\\\\\\\":\\\\\\\"Fuertemente en desacuerdo\\\\\\\",\\\\\\\"Q5\\\\\\\":\\\\\\\"Fuertemente en desacuerdo\\\\\\\",\\\\\\\"Q6\\\\\\\":\\\\\\\"Fuertemente en desacuerdo\\\\\\\",\\\\\\\"Q7\\\\\\\":\\\\\\\"Fuertemente en desacuerdo\\\\\\\",\\\\\\\"Q8\\\\\\\":\\\\\\\"Fuertemente en desacuerdo\\\\\\\",\\\\\\\"Q9\\\\\\\":\\\\\\\"Fuertemente en desacuerdo\\\\\\\",\\\\\\\"Q10\\\\\\\":\\\\\\\"Fuertemente en desacuerdo\\\\\\\",\\\\\\\"Q11\\\\\\\":\\\\\\\"Fuertemente en desacuerdo\\\\\\\"}\\\",\\\"trial_type\\\":\\\"survey-multi-choice\\\",\\\"trial_index\\\":9,\\\"time_elapsed\\\":79074,\\\"internal_node_id\\\":\\\"0.0-9.0\\\"},{\\\"rt\\\":6658,\\\"responses\\\":\\\"{\\\\\\\"Q0\\\\\\\":\\\\\\\"Fuertemente en desacuerdo\\\\\\\",\\\\\\\"Q1\\\\\\\":\\\\\\\"Fuertemente en desacuerdo\\\\\\\",\\\\\\\"Q2\\\\\\\":\\\\\\\"Fuertemente en desacuerdo\\\\\\\",\\\\\\\"Q3\\\\\\\":\\\\\\\"Fuertemente en desacuerdo\\\\\\\",\\\\\\\"Q4\\\\\\\":\\\\\\\"Fuertemente en desacuerdo\\\\\\\",\\\\\\\"Q5\\\\\\\":\\\\\\\"Fuertemente en desacuerdo\\\\\\\",\\\\\\\"Q6\\\\\\\":\\\\\\\"Fuertemente en desacuerdo\\\\\\\",\\\\\\\"Q7\\\\\\\":\\\\\\\"Fuertemente en desacuerdo\\\\\\\",\\\\\\\"Q8\\\\\\\":\\\\\\\"Fuertemente en desacuerdo\\\\\\\",\\\\\\\"Q9\\\\\\\":\\\\\\\"Fuertemente en desacuerdo\\\\\\\",\\\\\\\"Q10\\\\\\\":\\\\\\\"Fuertemente en desacuerdo\\\\\\\",\\\\\\\"Q11\\\\\\\":\\\\\\\"Fuertemente en desacuerdo\\\\\\\"}\\\",\\\"trial_type\\\":\\\"survey-multi-choice\\\",\\\"trial_index\\\":10,\\\"time_elapsed\\\":85759,\\\"internal_node_id\\\":\\\"0.0-10.0\\\"}]\""
   ]
  },
  {
   "cell_type": "code",
   "execution_count": 4,
   "metadata": {},
   "outputs": [],
   "source": [
    "import json\n",
    "data = json.loads(data)"
   ]
  },
  {
   "cell_type": "code",
   "execution_count": 24,
   "metadata": {},
   "outputs": [
    {
     "data": {
      "text/plain": [
       "'{\"Q0\":[\"Público\",\"Privado\",\"Obra Social\",\"Other\"]}'"
      ]
     },
     "execution_count": 24,
     "metadata": {},
     "output_type": "execute_result"
    }
   ],
   "source": [
    "\"Otro\" in data[-6]['responses']['Q0']"
   ]
  }
 ],
 "metadata": {
  "kernelspec": {
   "display_name": "Python 3",
   "language": "python",
   "name": "python3"
  },
  "language_info": {
   "codemirror_mode": {
    "name": "ipython",
    "version": 3
   },
   "file_extension": ".py",
   "mimetype": "text/x-python",
   "name": "python",
   "nbconvert_exporter": "python",
   "pygments_lexer": "ipython3",
   "version": "3.7.3"
  }
 },
 "nbformat": 4,
 "nbformat_minor": 4
}
