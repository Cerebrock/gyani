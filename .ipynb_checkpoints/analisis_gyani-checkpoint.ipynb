{
 "cells": [
  {
   "cell_type": "code",
   "execution_count": 1,
   "metadata": {},
   "outputs": [],
   "source": [
    "# para buscar archivos\n",
    "from glob import glob\n",
    "# super excel para analizar\n",
    "import pandas as pd\n",
    "# para leer los datos .json\n",
    "import json\n",
    "# para hacer busquedas en strings\n",
    "import re\n",
    "# para operaciones numericas\n",
    "import numpy as np\n",
    "# para que quede mas lindo\n",
    "import warnings\n",
    "warnings.filterwarnings('ignore')"
   ]
  },
  {
   "cell_type": "code",
   "execution_count": 2,
   "metadata": {},
   "outputs": [],
   "source": [
    "# Para bajar los datos (Mati)\n",
    "# aws s3 sync s3://unket/gyani ./data"
   ]
  },
  {
   "cell_type": "code",
   "execution_count": 3,
   "metadata": {},
   "outputs": [],
   "source": [
    "def dato2df(f):\n",
    "    \"\"\"recibe path al archivo y devuelve DataFrame\"\"\"\n",
    "    with open(f, 'rb') as inp:\n",
    "        j = json.loads(inp.read().decode('latin1'))[1:-1]\n",
    "        #j = re.sub(r\"\\\\+\", r\"\\\\\", j)\n",
    "    return j#pd.read_json(j)"
   ]
  },
  {
   "cell_type": "code",
   "execution_count": 8,
   "metadata": {},
   "outputs": [
    {
     "data": {
      "text/plain": [
       "14"
      ]
     },
     "execution_count": 8,
     "metadata": {},
     "output_type": "execute_result"
    }
   ],
   "source": [
    "files = glob('./datos/*.json')\n",
    "len(files)"
   ]
  },
  {
   "cell_type": "code",
   "execution_count": 18,
   "metadata": {},
   "outputs": [],
   "source": [
    "f = './datos/2020-02-25_17-56-47.json'\n",
    "d = dato2df(f)"
   ]
  },
  {
   "cell_type": "code",
   "execution_count": 25,
   "metadata": {},
   "outputs": [
    {
     "data": {
      "text/plain": [
       "'\\\\\"rt\\\\\",\\\\\"stimulus\\\\\",\\\\\"button_pressed\\\\\",\\\\\"trial_type\\\\\",\\\\\"trial_index\\\\\",\\\\\"time_elapsed\\\\\",\\\\\"internal_node_id\\\\\",\\\\\"responses\\\\\"\\\\r\\\\n\\\\\"1235\\\\\",\\\\\"<font size=5.5><p>¡Hola!</p><p><p>Esta encuesta forma parte del proyecto de investigación y divulgación científica <b>Neurotransmitiendo</b>.</p><p>La encuesta está dirigida únicamente a psicólogos recibidos que estén o hayan trabajado en el ámbito clínico. Se agradece mucho la difusión de la misma a colegas que trabajen en el mismo ámbito.</p><p>La participación en la misma es voluntaria teniendo el control de desistir si lo desea. La información que se recoja con este instrumento es confidencial y se utilizará solamente con fines científicos. Al participar de esta encuesta en línea su consentimiento informado será tomado como dado. Ante cualquier duda, puede escribir a <b>ntransmitiendo@gmail.com</b>\\\\\",\\\\\"0\\\\\",\\\\\"html-button-response\\\\\",\\\\\"0\\\\\",\\\\\"1258\\\\\",\\\\\"0.0-0.0\\\\\",\\\\\"\\\\\"\\\\r\\\\n\\\\\"394\\\\\",\\\\\"<font size=5.5><p>Continuando con el experimento aceptás aportar los datos generados, ayudándonos en nuestra labor de curiosidad científica. </p><p>Te haremos algunas preguntas sobre tu práctica profesional.<p>Procurá estar en un ambiente tranquilo y prestar la mayor atención posible.</p>\\\\\",\\\\\"0\\\\\",\\\\\"html-button-response\\\\\",\\\\\"1\\\\\",\\\\\"1653\\\\\",\\\\\"0.0-1.0\\\\\",\\\\\"\\\\\"\\\\r\\\\n\\\\\"3710.0099999997838\\\\\",\\\\\"\\\\\",\\\\\"\\\\\",\\\\\"survey-text\\\\\",\\\\\"2\\\\\",\\\\\"5371\\\\\",\\\\\"0.0-2.0\\\\\",\\\\\"{\\\\\"\\\\\"undefined\\\\\"\\\\\":\\\\\"\\\\\"asd\\\\\"\\\\\"}\\\\\"\\\\r\\\\n\\\\\"1124\\\\\",\\\\\"\\\\\",\\\\\"\\\\\",\\\\\"survey-multi-choice\\\\\",\\\\\"3\\\\\",\\\\\"6499\\\\\",\\\\\"0.0-3.0\\\\\",\\\\\"{\\\\\"\\\\\"Q0\\\\\"\\\\\":\\\\\"\\\\\"Femenino\\\\\"\\\\\",\\\\\"\\\\\"Q1\\\\\"\\\\\":\\\\\"\\\\\"Licenciatura de grado\\\\\"\\\\\"}\\\\\"\\\\r\\\\n\\\\\"449\\\\\",\\\\\"\\\\\",\\\\\"\\\\\",\\\\\"survey-multi-choice\\\\\",\\\\\"4\\\\\",\\\\\"6968\\\\\",\\\\\"0.0-5.0\\\\\",\\\\\"{\\\\\"\\\\\"Q0\\\\\"\\\\\":\\\\\"\\\\\"Humanista\\\\\"\\\\\"}\\\\\"\\\\r\\\\n\\\\\"1442\\\\\",\\\\\"\\\\\",\\\\\"\\\\\",\\\\\"survey-multi-select\\\\\",\\\\\"5\\\\\",\\\\\"8429\\\\\",\\\\\"0.0-8.0-0.0\\\\\",\\\\\"{\\\\\"\\\\\"Q0\\\\\"\\\\\":[\\\\\"\\\\\"Gestalt\\\\\"\\\\\",\\\\\"\\\\\"Terapia Basada en el consultante\\\\\"\\\\\"]}\\\\\"\\\\r\\\\n\\\\\"1108\\\\\",\\\\\"\\\\\",\\\\\"\\\\\",\\\\\"survey-multi-select\\\\\",\\\\\"6\\\\\",\\\\\"9555\\\\\",\\\\\"0.0-11.0\\\\\",\\\\\"{\\\\\"\\\\\"Q0\\\\\"\\\\\":[\\\\\"\\\\\"Público\\\\\"\\\\\",\\\\\"\\\\\"Privado\\\\\"\\\\\"]}\\\\\"\\\\r\\\\n\\\\\"2618\\\\\",\\\\\"\\\\\",\\\\\"\\\\\",\\\\\"survey-multi-choice\\\\\",\\\\\"7\\\\\",\\\\\"12195\\\\\",\\\\\"0.0-13.0\\\\\",\\\\\"{\\\\\"\\\\\"Q0\\\\\"\\\\\":\\\\\"\\\\\"Influyó totalmente\\\\\"\\\\\",\\\\\"\\\\\"Q1\\\\\"\\\\\":\\\\\"\\\\\"No influyó para nada\\\\\"\\\\\",\\\\\"\\\\\"Q2\\\\\"\\\\\":\\\\\"\\\\\"No influyó para nada\\\\\"\\\\\",\\\\\"\\\\\"Q3\\\\\"\\\\\":\\\\\"\\\\\"No influyó para nada\\\\\"\\\\\",\\\\\"\\\\\"Q4\\\\\"\\\\\":\\\\\"\\\\\"No influyó para nada\\\\\"\\\\\",\\\\\"\\\\\"Q5\\\\\"\\\\\":\\\\\"\\\\\"No influyó para nada\\\\\"\\\\\",\\\\\"\\\\\"Q6\\\\\"\\\\\":\\\\\"\\\\\"No influyó para nada\\\\\"\\\\\"}\\\\\"\\\\r\\\\n\\\\\"2104\\\\\",\\\\\"\\\\\",\\\\\"\\\\\",\\\\\"survey-multi-choice\\\\\",\\\\\"8\\\\\",\\\\\"14323\\\\\",\\\\\"0.0-14.0\\\\\",\\\\\"{\\\\\"\\\\\"Q0\\\\\"\\\\\":\\\\\"\\\\\"Nunca\\\\\"\\\\\",\\\\\"\\\\\"Q1\\\\\"\\\\\":\\\\\"\\\\\"Nunca\\\\\"\\\\\",\\\\\"\\\\\"Q2\\\\\"\\\\\":\\\\\"\\\\\"Nunca\\\\\"\\\\\",\\\\\"\\\\\"Q3\\\\\"\\\\\":\\\\\"\\\\\"Nunca\\\\\"\\\\\",\\\\\"\\\\\"Q4\\\\\"\\\\\":\\\\\"\\\\\"Nunca\\\\\"\\\\\",\\\\\"\\\\\"Q5\\\\\"\\\\\":\\\\\"\\\\\"Nunca\\\\\"\\\\\",\\\\\"\\\\\"Q6\\\\\"\\\\\":\\\\\"\\\\\"Nunca\\\\\"\\\\\",\\\\\"\\\\\"Q7\\\\\"\\\\\":\\\\\"\\\\\"Nunca\\\\\"\\\\\",\\\\\"\\\\\"Q8\\\\\"\\\\\":\\\\\"\\\\\"Nunca\\\\\"\\\\\"}\\\\\"\\\\r\\\\n\\\\\"3212\\\\\",\\\\\"\\\\\",\\\\\"\\\\\",\\\\\"survey-multi-choice\\\\\",\\\\\"9\\\\\",\\\\\"17559\\\\\",\\\\\"0.0-15.0\\\\\",\\\\\"{\\\\\"\\\\\"Q0\\\\\"\\\\\":\\\\\"\\\\\"Fuertemente en desacuerdo\\\\\"\\\\\",\\\\\"\\\\\"Q1\\\\\"\\\\\":\\\\\"\\\\\"Fuertemente en desacuerdo\\\\\"\\\\\",\\\\\"\\\\\"Q2\\\\\"\\\\\":\\\\\"\\\\\"Fuertemente en desacuerdo\\\\\"\\\\\",\\\\\"\\\\\"Q3\\\\\"\\\\\":\\\\\"\\\\\"Fuertemente en desacuerdo\\\\\"\\\\\",\\\\\"\\\\\"Q4\\\\\"\\\\\":\\\\\"\\\\\"Fuertemente en desacuerdo\\\\\"\\\\\",\\\\\"\\\\\"Q5\\\\\"\\\\\":\\\\\"\\\\\"Fuertemente en desacuerdo\\\\\"\\\\\",\\\\\"\\\\\"Q6\\\\\"\\\\\":\\\\\"\\\\\"Fuertemente en desacuerdo\\\\\"\\\\\",\\\\\"\\\\\"Q7\\\\\"\\\\\":\\\\\"\\\\\"Fuertemente en desacuerdo\\\\\"\\\\\",\\\\\"\\\\\"Q8\\\\\"\\\\\":\\\\\"\\\\\"Fuertemente en desacuerdo\\\\\"\\\\\",\\\\\"\\\\\"Q9\\\\\"\\\\\":\\\\\"\\\\\"Fuertemente en desacuerdo\\\\\"\\\\\",\\\\\"\\\\\"Q10\\\\\"\\\\\":\\\\\"\\\\\"Fuertemente en desacuerdo\\\\\"\\\\\",\\\\\"\\\\\"Q11\\\\\"\\\\\":\\\\\"\\\\\"Fuertemente en desacuerdo\\\\\"\\\\\"}\\\\\"\\\\r\\\\n\\\\\"2946\\\\\",\\\\\"\\\\\",\\\\\"\\\\\",\\\\\"survey-multi-choice\\\\\",\\\\\"10\\\\\",\\\\\"20531\\\\\",\\\\\"0.0-16.0\\\\\",\\\\\"{\\\\\"\\\\\"Q0\\\\\"\\\\\":\\\\\"\\\\\"Fuertemente en desacuerdo\\\\\"\\\\\",\\\\\"\\\\\"Q1\\\\\"\\\\\":\\\\\"\\\\\"Fuertemente en desacuerdo\\\\\"\\\\\",\\\\\"\\\\\"Q2\\\\\"\\\\\":\\\\\"\\\\\"Fuertemente en desacuerdo\\\\\"\\\\\",\\\\\"\\\\\"Q3\\\\\"\\\\\":\\\\\"\\\\\"Fuertemente en desacuerdo\\\\\"\\\\\",\\\\\"\\\\\"Q4\\\\\"\\\\\":\\\\\"\\\\\"Fuertemente en desacuerdo\\\\\"\\\\\",\\\\\"\\\\\"Q5\\\\\"\\\\\":\\\\\"\\\\\"Fuertemente en desacuerdo\\\\\"\\\\\",\\\\\"\\\\\"Q6\\\\\"\\\\\":\\\\\"\\\\\"Fuertemente en desacuerdo\\\\\"\\\\\",\\\\\"\\\\\"Q7\\\\\"\\\\\":\\\\\"\\\\\"Fuertemente en desacuerdo\\\\\"\\\\\",\\\\\"\\\\\"Q8\\\\\"\\\\\":\\\\\"\\\\\"Fuertemente en desacuerdo\\\\\"\\\\\",\\\\\"\\\\\"Q9\\\\\"\\\\\":\\\\\"\\\\\"Fuertemente en desacuerdo\\\\\"\\\\\",\\\\\"\\\\\"Q10\\\\\"\\\\\":\\\\\"\\\\\"Fuertemente en desacuerdo\\\\\"\\\\\",\\\\\"\\\\\"Q11\\\\\"\\\\\":\\\\\"\\\\\"Fuertemente en desacuerdo\\\\\"\\\\\"}\\\\\"\\\\r\\\\n\\\\\"3010.4449999998906\\\\\",\\\\\"\\\\\",\\\\\"\\\\\",\\\\\"survey-text\\\\\",\\\\\"11\\\\\",\\\\\"23565\\\\\",\\\\\"0.0-17.0\\\\\",\\\\\"{\\\\\"\\\\\"undefined\\\\\"\\\\\":\\\\\"\\\\\"asdasd\\\\\"\\\\\"}\\\\\"\\\\r\\\\n'"
      ]
     },
     "execution_count": 25,
     "metadata": {},
     "output_type": "execute_result"
    }
   ],
   "source": [
    "d"
   ]
  },
  {
   "cell_type": "code",
   "execution_count": 469,
   "metadata": {},
   "outputs": [
    {
     "ename": "JSONDecodeError",
     "evalue": "Expecting property name enclosed in double quotes: line 1 column 3 (char 2)",
     "output_type": "error",
     "traceback": [
      "\u001b[0;31m---------------------------------------------------------------------------\u001b[0m",
      "\u001b[0;31mJSONDecodeError\u001b[0m                           Traceback (most recent call last)",
      "\u001b[0;32m<ipython-input-469-982442a01cb4>\u001b[0m in \u001b[0;36m<module>\u001b[0;34m\u001b[0m\n\u001b[1;32m      1\u001b[0m \u001b[0;31m# No pude parsear el json\u001b[0m\u001b[0;34m\u001b[0m\u001b[0;34m\u001b[0m\u001b[0;34m\u001b[0m\u001b[0m\n\u001b[0;32m----> 2\u001b[0;31m \u001b[0mjson\u001b[0m\u001b[0;34m.\u001b[0m\u001b[0mloads\u001b[0m\u001b[0;34m(\u001b[0m\u001b[0md\u001b[0m\u001b[0;34m)\u001b[0m\u001b[0;34m\u001b[0m\u001b[0;34m\u001b[0m\u001b[0m\n\u001b[0m",
      "\u001b[0;32m~/anaconda3/lib/python3.7/json/__init__.py\u001b[0m in \u001b[0;36mloads\u001b[0;34m(s, encoding, cls, object_hook, parse_float, parse_int, parse_constant, object_pairs_hook, **kw)\u001b[0m\n\u001b[1;32m    346\u001b[0m             \u001b[0mparse_int\u001b[0m \u001b[0;32mis\u001b[0m \u001b[0;32mNone\u001b[0m \u001b[0;32mand\u001b[0m \u001b[0mparse_float\u001b[0m \u001b[0;32mis\u001b[0m \u001b[0;32mNone\u001b[0m \u001b[0;32mand\u001b[0m\u001b[0;34m\u001b[0m\u001b[0;34m\u001b[0m\u001b[0m\n\u001b[1;32m    347\u001b[0m             parse_constant is None and object_pairs_hook is None and not kw):\n\u001b[0;32m--> 348\u001b[0;31m         \u001b[0;32mreturn\u001b[0m \u001b[0m_default_decoder\u001b[0m\u001b[0;34m.\u001b[0m\u001b[0mdecode\u001b[0m\u001b[0;34m(\u001b[0m\u001b[0ms\u001b[0m\u001b[0;34m)\u001b[0m\u001b[0;34m\u001b[0m\u001b[0;34m\u001b[0m\u001b[0m\n\u001b[0m\u001b[1;32m    349\u001b[0m     \u001b[0;32mif\u001b[0m \u001b[0mcls\u001b[0m \u001b[0;32mis\u001b[0m \u001b[0;32mNone\u001b[0m\u001b[0;34m:\u001b[0m\u001b[0;34m\u001b[0m\u001b[0;34m\u001b[0m\u001b[0m\n\u001b[1;32m    350\u001b[0m         \u001b[0mcls\u001b[0m \u001b[0;34m=\u001b[0m \u001b[0mJSONDecoder\u001b[0m\u001b[0;34m\u001b[0m\u001b[0;34m\u001b[0m\u001b[0m\n",
      "\u001b[0;32m~/anaconda3/lib/python3.7/json/decoder.py\u001b[0m in \u001b[0;36mdecode\u001b[0;34m(self, s, _w)\u001b[0m\n\u001b[1;32m    335\u001b[0m \u001b[0;34m\u001b[0m\u001b[0m\n\u001b[1;32m    336\u001b[0m         \"\"\"\n\u001b[0;32m--> 337\u001b[0;31m         \u001b[0mobj\u001b[0m\u001b[0;34m,\u001b[0m \u001b[0mend\u001b[0m \u001b[0;34m=\u001b[0m \u001b[0mself\u001b[0m\u001b[0;34m.\u001b[0m\u001b[0mraw_decode\u001b[0m\u001b[0;34m(\u001b[0m\u001b[0ms\u001b[0m\u001b[0;34m,\u001b[0m \u001b[0midx\u001b[0m\u001b[0;34m=\u001b[0m\u001b[0m_w\u001b[0m\u001b[0;34m(\u001b[0m\u001b[0ms\u001b[0m\u001b[0;34m,\u001b[0m \u001b[0;36m0\u001b[0m\u001b[0;34m)\u001b[0m\u001b[0;34m.\u001b[0m\u001b[0mend\u001b[0m\u001b[0;34m(\u001b[0m\u001b[0;34m)\u001b[0m\u001b[0;34m)\u001b[0m\u001b[0;34m\u001b[0m\u001b[0;34m\u001b[0m\u001b[0m\n\u001b[0m\u001b[1;32m    338\u001b[0m         \u001b[0mend\u001b[0m \u001b[0;34m=\u001b[0m \u001b[0m_w\u001b[0m\u001b[0;34m(\u001b[0m\u001b[0ms\u001b[0m\u001b[0;34m,\u001b[0m \u001b[0mend\u001b[0m\u001b[0;34m)\u001b[0m\u001b[0;34m.\u001b[0m\u001b[0mend\u001b[0m\u001b[0;34m(\u001b[0m\u001b[0;34m)\u001b[0m\u001b[0;34m\u001b[0m\u001b[0;34m\u001b[0m\u001b[0m\n\u001b[1;32m    339\u001b[0m         \u001b[0;32mif\u001b[0m \u001b[0mend\u001b[0m \u001b[0;34m!=\u001b[0m \u001b[0mlen\u001b[0m\u001b[0;34m(\u001b[0m\u001b[0ms\u001b[0m\u001b[0;34m)\u001b[0m\u001b[0;34m:\u001b[0m\u001b[0;34m\u001b[0m\u001b[0;34m\u001b[0m\u001b[0m\n",
      "\u001b[0;32m~/anaconda3/lib/python3.7/json/decoder.py\u001b[0m in \u001b[0;36mraw_decode\u001b[0;34m(self, s, idx)\u001b[0m\n\u001b[1;32m    351\u001b[0m         \"\"\"\n\u001b[1;32m    352\u001b[0m         \u001b[0;32mtry\u001b[0m\u001b[0;34m:\u001b[0m\u001b[0;34m\u001b[0m\u001b[0;34m\u001b[0m\u001b[0m\n\u001b[0;32m--> 353\u001b[0;31m             \u001b[0mobj\u001b[0m\u001b[0;34m,\u001b[0m \u001b[0mend\u001b[0m \u001b[0;34m=\u001b[0m \u001b[0mself\u001b[0m\u001b[0;34m.\u001b[0m\u001b[0mscan_once\u001b[0m\u001b[0;34m(\u001b[0m\u001b[0ms\u001b[0m\u001b[0;34m,\u001b[0m \u001b[0midx\u001b[0m\u001b[0;34m)\u001b[0m\u001b[0;34m\u001b[0m\u001b[0;34m\u001b[0m\u001b[0m\n\u001b[0m\u001b[1;32m    354\u001b[0m         \u001b[0;32mexcept\u001b[0m \u001b[0mStopIteration\u001b[0m \u001b[0;32mas\u001b[0m \u001b[0merr\u001b[0m\u001b[0;34m:\u001b[0m\u001b[0;34m\u001b[0m\u001b[0;34m\u001b[0m\u001b[0m\n\u001b[1;32m    355\u001b[0m             \u001b[0;32mraise\u001b[0m \u001b[0mJSONDecodeError\u001b[0m\u001b[0;34m(\u001b[0m\u001b[0;34m\"Expecting value\"\u001b[0m\u001b[0;34m,\u001b[0m \u001b[0ms\u001b[0m\u001b[0;34m,\u001b[0m \u001b[0merr\u001b[0m\u001b[0;34m.\u001b[0m\u001b[0mvalue\u001b[0m\u001b[0;34m)\u001b[0m \u001b[0;32mfrom\u001b[0m \u001b[0;32mNone\u001b[0m\u001b[0;34m\u001b[0m\u001b[0;34m\u001b[0m\u001b[0m\n",
      "\u001b[0;31mJSONDecodeError\u001b[0m: Expecting property name enclosed in double quotes: line 1 column 3 (char 2)"
     ]
    }
   ],
   "source": [
    "# No pude parsear el json\n",
    "json.loads(d)"
   ]
  },
  {
   "cell_type": "code",
   "execution_count": 397,
   "metadata": {},
   "outputs": [],
   "source": [
    "df = pd.DataFrame(data)"
   ]
  },
  {
   "cell_type": "code",
   "execution_count": 398,
   "metadata": {},
   "outputs": [
    {
     "data": {
      "text/plain": [
       "(1, 1)"
      ]
     },
     "execution_count": 398,
     "metadata": {},
     "output_type": "execute_result"
    }
   ],
   "source": [
    "df.shape"
   ]
  },
  {
   "cell_type": "code",
   "execution_count": null,
   "metadata": {},
   "outputs": [],
   "source": []
  }
 ],
 "metadata": {
  "kernelspec": {
   "display_name": "Python 3",
   "language": "python",
   "name": "python3"
  },
  "language_info": {
   "codemirror_mode": {
    "name": "ipython",
    "version": 3
   },
   "file_extension": ".py",
   "mimetype": "text/x-python",
   "name": "python",
   "nbconvert_exporter": "python",
   "pygments_lexer": "ipython3",
   "version": "3.7.4"
  }
 },
 "nbformat": 4,
 "nbformat_minor": 4
}
